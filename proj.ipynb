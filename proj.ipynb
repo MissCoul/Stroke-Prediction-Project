{
  "nbformat": 4,
  "nbformat_minor": 0,
  "metadata": {
    "colab": {
      "provenance": [],
      "authorship_tag": "ABX9TyPtjsuTiFM9nnN2bwUi/0Kl",
      "include_colab_link": true
    },
    "kernelspec": {
      "name": "python3",
      "display_name": "Python 3"
    },
    "language_info": {
      "name": "python"
    }
  },
  "cells": [
    {
      "cell_type": "markdown",
      "metadata": {
        "id": "view-in-github",
        "colab_type": "text"
      },
      "source": [
        "<a href=\"https://colab.research.google.com/github/MissCoul/BibookProject/blob/main/proj.ipynb\" target=\"_parent\"><img src=\"https://colab.research.google.com/assets/colab-badge.svg\" alt=\"Open In Colab\"/></a>"
      ]
    },
    {
      "cell_type": "markdown",
      "source": [
        "##I. Introduction:\n",
        "In order to determine the elements that contribute to the occurrence of strokes, this data science project will examine a dataset of stroke patients and create a predictive model. Stroke is a devastating medical disorder that impacts millions of individuals worldwide. By understanding the major risk factors, stroke can be better prevented and treated.\n",
        "The dataset is composed of 43400 patient records, each of which contains details about the patient's demographics, medical background, way of life, and other health markers. The project's goal is to identify the major stroke risk factors and to create a model that can precisely predict the possibility of a stroke occurring based on these factors.\n",
        "Accuracy, precision, recall, and F1-score are some of the measures that will be used to assess the project's outcomes. The report concludes with an assessment of the Hndings' implications and recommendations for further study or development. The outcomes of patients could be improved by using the project's Hndings to guide stroke prevention and treatment measures."
      ],
      "metadata": {
        "id": "8CWr3JDmtjML"
      }
    },
    {
      "cell_type": "code",
      "execution_count": 217,
      "metadata": {
        "id": "jQn_KssCtSDT"
      },
      "outputs": [],
      "source": [
        "#importing python library\n",
        "import pandas as pd\n",
        "import numpy as np\n",
        "from scipy.stats import chi2_contingency\n",
        "from scipy.stats import f_oneway\n",
        "import seaborn as sns\n",
        "from sklearn.preprocessing import OneHotEncoder\n",
        "from sklearn.linear_model import LogisticRegression\n",
        "from sklearn.metrics import roc_curve, auc\n",
        "from sklearn.model_selection import train_test_split\n",
        "from sklearn.metrics import accuracy_score, precision_score, recall_score, f1_score\n",
        "from sklearn.neighbors import KNeighborsClassifier\n",
        "from sklearn.metrics import roc_curve, roc_auc_score\n",
        "from sklearn.metrics import confusion_matrix\n",
        "from sklearn import svm"
      ]
    },
    {
      "cell_type": "code",
      "source": [
        "data = pd.read_csv('/content/stroke data.csv')"
      ],
      "metadata": {
        "id": "e2GtWl288pX8"
      },
      "execution_count": 218,
      "outputs": []
    },
    {
      "cell_type": "code",
      "source": [
        "TARGET_VARIABLE = \"stroke\""
      ],
      "metadata": {
        "id": "0h2AZLKHttxj"
      },
      "execution_count": 219,
      "outputs": []
    },
    {
      "cell_type": "code",
      "source": [
        "data.info()"
      ],
      "metadata": {
        "colab": {
          "base_uri": "https://localhost:8080/"
        },
        "id": "LxmYPXud8gFL",
        "outputId": "5a6a5c12-240c-4fa1-fc1e-e0c0f94b9131"
      },
      "execution_count": 220,
      "outputs": [
        {
          "output_type": "stream",
          "name": "stdout",
          "text": [
            "<class 'pandas.core.frame.DataFrame'>\n",
            "RangeIndex: 43400 entries, 0 to 43399\n",
            "Data columns (total 15 columns):\n",
            " #   Column          Non-Null Count  Dtype  \n",
            "---  ------          --------------  -----  \n",
            " 0   id              43400 non-null  int64  \n",
            " 1   gender          43400 non-null  object \n",
            " 2   age             43400 non-null  float64\n",
            " 3   married         43400 non-null  object \n",
            " 4   hypertension    43400 non-null  int64  \n",
            " 5   heart_disease   43400 non-null  int64  \n",
            " 6   occupation      43400 non-null  object \n",
            " 7   residence       43400 non-null  object \n",
            " 8   metric_1        43400 non-null  float64\n",
            " 9   metric_2        41938 non-null  float64\n",
            " 10  metric_3        43400 non-null  int64  \n",
            " 11  metric_4        43400 non-null  float64\n",
            " 12  metric_5        43400 non-null  float64\n",
            " 13  smoking_status  30108 non-null  object \n",
            " 14  stroke          43400 non-null  int64  \n",
            "dtypes: float64(5), int64(5), object(5)\n",
            "memory usage: 5.0+ MB\n"
          ]
        }
      ]
    },
    {
      "cell_type": "code",
      "source": [
        "data = pd.read_csv(\"/content/stroke data.csv\")\n",
        "data.head(5)"
      ],
      "metadata": {
        "colab": {
          "base_uri": "https://localhost:8080/",
          "height": 268
        },
        "id": "1dHNXmmZuEX3",
        "outputId": "58902786-079f-4175-d6fc-13b8f018b7ab"
      },
      "execution_count": 221,
      "outputs": [
        {
          "output_type": "execute_result",
          "data": {
            "text/plain": [
              "   id  gender   age married  hypertension  heart_disease occupation residence  \\\n",
              "0   1    Male   3.0      No             0              0          A     Rural   \n",
              "1   2    Male  58.0     Yes             1              0          B     Urban   \n",
              "2   3  Female   8.0      No             0              0          B     Urban   \n",
              "3   4  Female  70.0     Yes             0              0          B     Rural   \n",
              "4   5    Male  14.0      No             0              0          C     Rural   \n",
              "\n",
              "   metric_1  metric_2  metric_3  metric_4  metric_5   smoking_status  stroke  \n",
              "0     95.12      18.0         1     99.35     95.12              NaN       0  \n",
              "1     87.96      39.2         1     99.70     87.96     never smoked       0  \n",
              "2    110.89      17.6         0     96.35    110.89              NaN       0  \n",
              "3     69.04      35.9         0     95.52     69.04  formerly smoked       0  \n",
              "4    161.28      19.1         1     95.10    161.28              NaN       0  "
            ],
            "text/html": [
              "\n",
              "  <div id=\"df-746c451a-89fd-4b71-90b0-5a6ce7ee9952\">\n",
              "    <div class=\"colab-df-container\">\n",
              "      <div>\n",
              "<style scoped>\n",
              "    .dataframe tbody tr th:only-of-type {\n",
              "        vertical-align: middle;\n",
              "    }\n",
              "\n",
              "    .dataframe tbody tr th {\n",
              "        vertical-align: top;\n",
              "    }\n",
              "\n",
              "    .dataframe thead th {\n",
              "        text-align: right;\n",
              "    }\n",
              "</style>\n",
              "<table border=\"1\" class=\"dataframe\">\n",
              "  <thead>\n",
              "    <tr style=\"text-align: right;\">\n",
              "      <th></th>\n",
              "      <th>id</th>\n",
              "      <th>gender</th>\n",
              "      <th>age</th>\n",
              "      <th>married</th>\n",
              "      <th>hypertension</th>\n",
              "      <th>heart_disease</th>\n",
              "      <th>occupation</th>\n",
              "      <th>residence</th>\n",
              "      <th>metric_1</th>\n",
              "      <th>metric_2</th>\n",
              "      <th>metric_3</th>\n",
              "      <th>metric_4</th>\n",
              "      <th>metric_5</th>\n",
              "      <th>smoking_status</th>\n",
              "      <th>stroke</th>\n",
              "    </tr>\n",
              "  </thead>\n",
              "  <tbody>\n",
              "    <tr>\n",
              "      <th>0</th>\n",
              "      <td>1</td>\n",
              "      <td>Male</td>\n",
              "      <td>3.0</td>\n",
              "      <td>No</td>\n",
              "      <td>0</td>\n",
              "      <td>0</td>\n",
              "      <td>A</td>\n",
              "      <td>Rural</td>\n",
              "      <td>95.12</td>\n",
              "      <td>18.0</td>\n",
              "      <td>1</td>\n",
              "      <td>99.35</td>\n",
              "      <td>95.12</td>\n",
              "      <td>NaN</td>\n",
              "      <td>0</td>\n",
              "    </tr>\n",
              "    <tr>\n",
              "      <th>1</th>\n",
              "      <td>2</td>\n",
              "      <td>Male</td>\n",
              "      <td>58.0</td>\n",
              "      <td>Yes</td>\n",
              "      <td>1</td>\n",
              "      <td>0</td>\n",
              "      <td>B</td>\n",
              "      <td>Urban</td>\n",
              "      <td>87.96</td>\n",
              "      <td>39.2</td>\n",
              "      <td>1</td>\n",
              "      <td>99.70</td>\n",
              "      <td>87.96</td>\n",
              "      <td>never smoked</td>\n",
              "      <td>0</td>\n",
              "    </tr>\n",
              "    <tr>\n",
              "      <th>2</th>\n",
              "      <td>3</td>\n",
              "      <td>Female</td>\n",
              "      <td>8.0</td>\n",
              "      <td>No</td>\n",
              "      <td>0</td>\n",
              "      <td>0</td>\n",
              "      <td>B</td>\n",
              "      <td>Urban</td>\n",
              "      <td>110.89</td>\n",
              "      <td>17.6</td>\n",
              "      <td>0</td>\n",
              "      <td>96.35</td>\n",
              "      <td>110.89</td>\n",
              "      <td>NaN</td>\n",
              "      <td>0</td>\n",
              "    </tr>\n",
              "    <tr>\n",
              "      <th>3</th>\n",
              "      <td>4</td>\n",
              "      <td>Female</td>\n",
              "      <td>70.0</td>\n",
              "      <td>Yes</td>\n",
              "      <td>0</td>\n",
              "      <td>0</td>\n",
              "      <td>B</td>\n",
              "      <td>Rural</td>\n",
              "      <td>69.04</td>\n",
              "      <td>35.9</td>\n",
              "      <td>0</td>\n",
              "      <td>95.52</td>\n",
              "      <td>69.04</td>\n",
              "      <td>formerly smoked</td>\n",
              "      <td>0</td>\n",
              "    </tr>\n",
              "    <tr>\n",
              "      <th>4</th>\n",
              "      <td>5</td>\n",
              "      <td>Male</td>\n",
              "      <td>14.0</td>\n",
              "      <td>No</td>\n",
              "      <td>0</td>\n",
              "      <td>0</td>\n",
              "      <td>C</td>\n",
              "      <td>Rural</td>\n",
              "      <td>161.28</td>\n",
              "      <td>19.1</td>\n",
              "      <td>1</td>\n",
              "      <td>95.10</td>\n",
              "      <td>161.28</td>\n",
              "      <td>NaN</td>\n",
              "      <td>0</td>\n",
              "    </tr>\n",
              "  </tbody>\n",
              "</table>\n",
              "</div>\n",
              "      <button class=\"colab-df-convert\" onclick=\"convertToInteractive('df-746c451a-89fd-4b71-90b0-5a6ce7ee9952')\"\n",
              "              title=\"Convert this dataframe to an interactive table.\"\n",
              "              style=\"display:none;\">\n",
              "        \n",
              "  <svg xmlns=\"http://www.w3.org/2000/svg\" height=\"24px\"viewBox=\"0 0 24 24\"\n",
              "       width=\"24px\">\n",
              "    <path d=\"M0 0h24v24H0V0z\" fill=\"none\"/>\n",
              "    <path d=\"M18.56 5.44l.94 2.06.94-2.06 2.06-.94-2.06-.94-.94-2.06-.94 2.06-2.06.94zm-11 1L8.5 8.5l.94-2.06 2.06-.94-2.06-.94L8.5 2.5l-.94 2.06-2.06.94zm10 10l.94 2.06.94-2.06 2.06-.94-2.06-.94-.94-2.06-.94 2.06-2.06.94z\"/><path d=\"M17.41 7.96l-1.37-1.37c-.4-.4-.92-.59-1.43-.59-.52 0-1.04.2-1.43.59L10.3 9.45l-7.72 7.72c-.78.78-.78 2.05 0 2.83L4 21.41c.39.39.9.59 1.41.59.51 0 1.02-.2 1.41-.59l7.78-7.78 2.81-2.81c.8-.78.8-2.07 0-2.86zM5.41 20L4 18.59l7.72-7.72 1.47 1.35L5.41 20z\"/>\n",
              "  </svg>\n",
              "      </button>\n",
              "      \n",
              "  <style>\n",
              "    .colab-df-container {\n",
              "      display:flex;\n",
              "      flex-wrap:wrap;\n",
              "      gap: 12px;\n",
              "    }\n",
              "\n",
              "    .colab-df-convert {\n",
              "      background-color: #E8F0FE;\n",
              "      border: none;\n",
              "      border-radius: 50%;\n",
              "      cursor: pointer;\n",
              "      display: none;\n",
              "      fill: #1967D2;\n",
              "      height: 32px;\n",
              "      padding: 0 0 0 0;\n",
              "      width: 32px;\n",
              "    }\n",
              "\n",
              "    .colab-df-convert:hover {\n",
              "      background-color: #E2EBFA;\n",
              "      box-shadow: 0px 1px 2px rgba(60, 64, 67, 0.3), 0px 1px 3px 1px rgba(60, 64, 67, 0.15);\n",
              "      fill: #174EA6;\n",
              "    }\n",
              "\n",
              "    [theme=dark] .colab-df-convert {\n",
              "      background-color: #3B4455;\n",
              "      fill: #D2E3FC;\n",
              "    }\n",
              "\n",
              "    [theme=dark] .colab-df-convert:hover {\n",
              "      background-color: #434B5C;\n",
              "      box-shadow: 0px 1px 3px 1px rgba(0, 0, 0, 0.15);\n",
              "      filter: drop-shadow(0px 1px 2px rgba(0, 0, 0, 0.3));\n",
              "      fill: #FFFFFF;\n",
              "    }\n",
              "  </style>\n",
              "\n",
              "      <script>\n",
              "        const buttonEl =\n",
              "          document.querySelector('#df-746c451a-89fd-4b71-90b0-5a6ce7ee9952 button.colab-df-convert');\n",
              "        buttonEl.style.display =\n",
              "          google.colab.kernel.accessAllowed ? 'block' : 'none';\n",
              "\n",
              "        async function convertToInteractive(key) {\n",
              "          const element = document.querySelector('#df-746c451a-89fd-4b71-90b0-5a6ce7ee9952');\n",
              "          const dataTable =\n",
              "            await google.colab.kernel.invokeFunction('convertToInteractive',\n",
              "                                                     [key], {});\n",
              "          if (!dataTable) return;\n",
              "\n",
              "          const docLinkHtml = 'Like what you see? Visit the ' +\n",
              "            '<a target=\"_blank\" href=https://colab.research.google.com/notebooks/data_table.ipynb>data table notebook</a>'\n",
              "            + ' to learn more about interactive tables.';\n",
              "          element.innerHTML = '';\n",
              "          dataTable['output_type'] = 'display_data';\n",
              "          await google.colab.output.renderOutput(dataTable, element);\n",
              "          const docLink = document.createElement('div');\n",
              "          docLink.innerHTML = docLinkHtml;\n",
              "          element.appendChild(docLink);\n",
              "        }\n",
              "      </script>\n",
              "    </div>\n",
              "  </div>\n",
              "  "
            ]
          },
          "metadata": {},
          "execution_count": 221
        }
      ]
    },
    {
      "cell_type": "code",
      "source": [
        "data.info()"
      ],
      "metadata": {
        "colab": {
          "base_uri": "https://localhost:8080/"
        },
        "id": "5E9SmvhSuOnt",
        "outputId": "e22120a7-19dc-4783-e6cc-b1c0c0250eca"
      },
      "execution_count": 222,
      "outputs": [
        {
          "output_type": "stream",
          "name": "stdout",
          "text": [
            "<class 'pandas.core.frame.DataFrame'>\n",
            "RangeIndex: 43400 entries, 0 to 43399\n",
            "Data columns (total 15 columns):\n",
            " #   Column          Non-Null Count  Dtype  \n",
            "---  ------          --------------  -----  \n",
            " 0   id              43400 non-null  int64  \n",
            " 1   gender          43400 non-null  object \n",
            " 2   age             43400 non-null  float64\n",
            " 3   married         43400 non-null  object \n",
            " 4   hypertension    43400 non-null  int64  \n",
            " 5   heart_disease   43400 non-null  int64  \n",
            " 6   occupation      43400 non-null  object \n",
            " 7   residence       43400 non-null  object \n",
            " 8   metric_1        43400 non-null  float64\n",
            " 9   metric_2        41938 non-null  float64\n",
            " 10  metric_3        43400 non-null  int64  \n",
            " 11  metric_4        43400 non-null  float64\n",
            " 12  metric_5        43400 non-null  float64\n",
            " 13  smoking_status  30108 non-null  object \n",
            " 14  stroke          43400 non-null  int64  \n",
            "dtypes: float64(5), int64(5), object(5)\n",
            "memory usage: 5.0+ MB\n"
          ]
        }
      ]
    },
    {
      "cell_type": "markdown",
      "source": [
        "##I.a Data Description\n",
        "The stroke dataset consists of more than 43,400 patient records, each of which contains details about the patient's demographics, medical background, way of life, and other health indicators. An Accountable Care Organization (ACO) provided the dataset, which will be used in studies to create an outreach program where a group of health coaches would engage with participants to lower their risk of stroke.\n",
        "The dataset has 15 features, which are listed below:\n",
        "1. id:uniqueidentiHerforeachpatient\n",
        "2. gender:patientgender(maleorfemale)\n",
        "3. age:patientageinyears\n",
        "4. married:binaryindicatorformaritalstatus(0=no,1=yes)\n",
        "5. hypertension:binaryindicatorforhypertension(0=no,1=yes)\n",
        "S. heart_disease:binaryindicatorforheartdisease(0=no,1=yes)\n",
        "7. occupation:patientoccupation(private,self-employed,governmentjob,children,or neverworked)\n",
        "V. residence:patientresidencetype(urbanorrural)\n",
        "9. metric_1:numericalvariable\n",
        "10. metric_2:numericalvariable\n",
        "11. metric_3:categoricalvariablewith0fornonoccurenceofmetric_3and1foroccurenceof\n",
        "metric_3\n",
        "12. metric_4:numericalvariable\n",
        "13. metric_5:numericalvariable\n",
        "14. smoking_status:patientsmokingstatus(formerlysmoked,neversmoked,orcurrently\n",
        "smoking)\n",
        "15. stroke:binaryindicatorforstrokeoccurrence(0=no,1=yes)\n",
        "The stroke Held will serve as our label variable for the prediction model. The model uses the remaining features as predictors. Our data has both categorical(gender, married, hypertension, heart_disease, residence, metric_3, smoking status and stroke) and numerical variables(age, metric_1, metric_2, metric_4 and metric_5)\n",
        "The id as been identify as a column which is not useful in our analysis so we can make it as the index."
      ],
      "metadata": {
        "id": "fSr5RwtDuWK7"
      }
    },
    {
      "cell_type": "code",
      "source": [
        "data.set_index(\"id\", drop=True, inplace=True)\n",
        "data.head(5)"
      ],
      "metadata": {
        "colab": {
          "base_uri": "https://localhost:8080/",
          "height": 299
        },
        "id": "pRN6zs5yuVYg",
        "outputId": "18a25810-2e16-4915-97fe-32107499dc4d"
      },
      "execution_count": 223,
      "outputs": [
        {
          "output_type": "execute_result",
          "data": {
            "text/plain": [
              "    gender   age married  hypertension  heart_disease occupation residence  \\\n",
              "id                                                                           \n",
              "1     Male   3.0      No             0              0          A     Rural   \n",
              "2     Male  58.0     Yes             1              0          B     Urban   \n",
              "3   Female   8.0      No             0              0          B     Urban   \n",
              "4   Female  70.0     Yes             0              0          B     Rural   \n",
              "5     Male  14.0      No             0              0          C     Rural   \n",
              "\n",
              "    metric_1  metric_2  metric_3  metric_4  metric_5   smoking_status  stroke  \n",
              "id                                                                             \n",
              "1      95.12      18.0         1     99.35     95.12              NaN       0  \n",
              "2      87.96      39.2         1     99.70     87.96     never smoked       0  \n",
              "3     110.89      17.6         0     96.35    110.89              NaN       0  \n",
              "4      69.04      35.9         0     95.52     69.04  formerly smoked       0  \n",
              "5     161.28      19.1         1     95.10    161.28              NaN       0  "
            ],
            "text/html": [
              "\n",
              "  <div id=\"df-ef96fc22-3064-407d-ad77-ce711bb3bf43\">\n",
              "    <div class=\"colab-df-container\">\n",
              "      <div>\n",
              "<style scoped>\n",
              "    .dataframe tbody tr th:only-of-type {\n",
              "        vertical-align: middle;\n",
              "    }\n",
              "\n",
              "    .dataframe tbody tr th {\n",
              "        vertical-align: top;\n",
              "    }\n",
              "\n",
              "    .dataframe thead th {\n",
              "        text-align: right;\n",
              "    }\n",
              "</style>\n",
              "<table border=\"1\" class=\"dataframe\">\n",
              "  <thead>\n",
              "    <tr style=\"text-align: right;\">\n",
              "      <th></th>\n",
              "      <th>gender</th>\n",
              "      <th>age</th>\n",
              "      <th>married</th>\n",
              "      <th>hypertension</th>\n",
              "      <th>heart_disease</th>\n",
              "      <th>occupation</th>\n",
              "      <th>residence</th>\n",
              "      <th>metric_1</th>\n",
              "      <th>metric_2</th>\n",
              "      <th>metric_3</th>\n",
              "      <th>metric_4</th>\n",
              "      <th>metric_5</th>\n",
              "      <th>smoking_status</th>\n",
              "      <th>stroke</th>\n",
              "    </tr>\n",
              "    <tr>\n",
              "      <th>id</th>\n",
              "      <th></th>\n",
              "      <th></th>\n",
              "      <th></th>\n",
              "      <th></th>\n",
              "      <th></th>\n",
              "      <th></th>\n",
              "      <th></th>\n",
              "      <th></th>\n",
              "      <th></th>\n",
              "      <th></th>\n",
              "      <th></th>\n",
              "      <th></th>\n",
              "      <th></th>\n",
              "      <th></th>\n",
              "    </tr>\n",
              "  </thead>\n",
              "  <tbody>\n",
              "    <tr>\n",
              "      <th>1</th>\n",
              "      <td>Male</td>\n",
              "      <td>3.0</td>\n",
              "      <td>No</td>\n",
              "      <td>0</td>\n",
              "      <td>0</td>\n",
              "      <td>A</td>\n",
              "      <td>Rural</td>\n",
              "      <td>95.12</td>\n",
              "      <td>18.0</td>\n",
              "      <td>1</td>\n",
              "      <td>99.35</td>\n",
              "      <td>95.12</td>\n",
              "      <td>NaN</td>\n",
              "      <td>0</td>\n",
              "    </tr>\n",
              "    <tr>\n",
              "      <th>2</th>\n",
              "      <td>Male</td>\n",
              "      <td>58.0</td>\n",
              "      <td>Yes</td>\n",
              "      <td>1</td>\n",
              "      <td>0</td>\n",
              "      <td>B</td>\n",
              "      <td>Urban</td>\n",
              "      <td>87.96</td>\n",
              "      <td>39.2</td>\n",
              "      <td>1</td>\n",
              "      <td>99.70</td>\n",
              "      <td>87.96</td>\n",
              "      <td>never smoked</td>\n",
              "      <td>0</td>\n",
              "    </tr>\n",
              "    <tr>\n",
              "      <th>3</th>\n",
              "      <td>Female</td>\n",
              "      <td>8.0</td>\n",
              "      <td>No</td>\n",
              "      <td>0</td>\n",
              "      <td>0</td>\n",
              "      <td>B</td>\n",
              "      <td>Urban</td>\n",
              "      <td>110.89</td>\n",
              "      <td>17.6</td>\n",
              "      <td>0</td>\n",
              "      <td>96.35</td>\n",
              "      <td>110.89</td>\n",
              "      <td>NaN</td>\n",
              "      <td>0</td>\n",
              "    </tr>\n",
              "    <tr>\n",
              "      <th>4</th>\n",
              "      <td>Female</td>\n",
              "      <td>70.0</td>\n",
              "      <td>Yes</td>\n",
              "      <td>0</td>\n",
              "      <td>0</td>\n",
              "      <td>B</td>\n",
              "      <td>Rural</td>\n",
              "      <td>69.04</td>\n",
              "      <td>35.9</td>\n",
              "      <td>0</td>\n",
              "      <td>95.52</td>\n",
              "      <td>69.04</td>\n",
              "      <td>formerly smoked</td>\n",
              "      <td>0</td>\n",
              "    </tr>\n",
              "    <tr>\n",
              "      <th>5</th>\n",
              "      <td>Male</td>\n",
              "      <td>14.0</td>\n",
              "      <td>No</td>\n",
              "      <td>0</td>\n",
              "      <td>0</td>\n",
              "      <td>C</td>\n",
              "      <td>Rural</td>\n",
              "      <td>161.28</td>\n",
              "      <td>19.1</td>\n",
              "      <td>1</td>\n",
              "      <td>95.10</td>\n",
              "      <td>161.28</td>\n",
              "      <td>NaN</td>\n",
              "      <td>0</td>\n",
              "    </tr>\n",
              "  </tbody>\n",
              "</table>\n",
              "</div>\n",
              "      <button class=\"colab-df-convert\" onclick=\"convertToInteractive('df-ef96fc22-3064-407d-ad77-ce711bb3bf43')\"\n",
              "              title=\"Convert this dataframe to an interactive table.\"\n",
              "              style=\"display:none;\">\n",
              "        \n",
              "  <svg xmlns=\"http://www.w3.org/2000/svg\" height=\"24px\"viewBox=\"0 0 24 24\"\n",
              "       width=\"24px\">\n",
              "    <path d=\"M0 0h24v24H0V0z\" fill=\"none\"/>\n",
              "    <path d=\"M18.56 5.44l.94 2.06.94-2.06 2.06-.94-2.06-.94-.94-2.06-.94 2.06-2.06.94zm-11 1L8.5 8.5l.94-2.06 2.06-.94-2.06-.94L8.5 2.5l-.94 2.06-2.06.94zm10 10l.94 2.06.94-2.06 2.06-.94-2.06-.94-.94-2.06-.94 2.06-2.06.94z\"/><path d=\"M17.41 7.96l-1.37-1.37c-.4-.4-.92-.59-1.43-.59-.52 0-1.04.2-1.43.59L10.3 9.45l-7.72 7.72c-.78.78-.78 2.05 0 2.83L4 21.41c.39.39.9.59 1.41.59.51 0 1.02-.2 1.41-.59l7.78-7.78 2.81-2.81c.8-.78.8-2.07 0-2.86zM5.41 20L4 18.59l7.72-7.72 1.47 1.35L5.41 20z\"/>\n",
              "  </svg>\n",
              "      </button>\n",
              "      \n",
              "  <style>\n",
              "    .colab-df-container {\n",
              "      display:flex;\n",
              "      flex-wrap:wrap;\n",
              "      gap: 12px;\n",
              "    }\n",
              "\n",
              "    .colab-df-convert {\n",
              "      background-color: #E8F0FE;\n",
              "      border: none;\n",
              "      border-radius: 50%;\n",
              "      cursor: pointer;\n",
              "      display: none;\n",
              "      fill: #1967D2;\n",
              "      height: 32px;\n",
              "      padding: 0 0 0 0;\n",
              "      width: 32px;\n",
              "    }\n",
              "\n",
              "    .colab-df-convert:hover {\n",
              "      background-color: #E2EBFA;\n",
              "      box-shadow: 0px 1px 2px rgba(60, 64, 67, 0.3), 0px 1px 3px 1px rgba(60, 64, 67, 0.15);\n",
              "      fill: #174EA6;\n",
              "    }\n",
              "\n",
              "    [theme=dark] .colab-df-convert {\n",
              "      background-color: #3B4455;\n",
              "      fill: #D2E3FC;\n",
              "    }\n",
              "\n",
              "    [theme=dark] .colab-df-convert:hover {\n",
              "      background-color: #434B5C;\n",
              "      box-shadow: 0px 1px 3px 1px rgba(0, 0, 0, 0.15);\n",
              "      filter: drop-shadow(0px 1px 2px rgba(0, 0, 0, 0.3));\n",
              "      fill: #FFFFFF;\n",
              "    }\n",
              "  </style>\n",
              "\n",
              "      <script>\n",
              "        const buttonEl =\n",
              "          document.querySelector('#df-ef96fc22-3064-407d-ad77-ce711bb3bf43 button.colab-df-convert');\n",
              "        buttonEl.style.display =\n",
              "          google.colab.kernel.accessAllowed ? 'block' : 'none';\n",
              "\n",
              "        async function convertToInteractive(key) {\n",
              "          const element = document.querySelector('#df-ef96fc22-3064-407d-ad77-ce711bb3bf43');\n",
              "          const dataTable =\n",
              "            await google.colab.kernel.invokeFunction('convertToInteractive',\n",
              "                                                     [key], {});\n",
              "          if (!dataTable) return;\n",
              "\n",
              "          const docLinkHtml = 'Like what you see? Visit the ' +\n",
              "            '<a target=\"_blank\" href=https://colab.research.google.com/notebooks/data_table.ipynb>data table notebook</a>'\n",
              "            + ' to learn more about interactive tables.';\n",
              "          element.innerHTML = '';\n",
              "          dataTable['output_type'] = 'display_data';\n",
              "          await google.colab.output.renderOutput(dataTable, element);\n",
              "          const docLink = document.createElement('div');\n",
              "          docLink.innerHTML = docLinkHtml;\n",
              "          element.appendChild(docLink);\n",
              "        }\n",
              "      </script>\n",
              "    </div>\n",
              "  </div>\n",
              "  "
            ]
          },
          "metadata": {},
          "execution_count": 223
        }
      ]
    },
    {
      "cell_type": "markdown",
      "source": [
        "##II. Data Preparation and Exploration"
      ],
      "metadata": {
        "id": "df4FSwNYu6kp"
      }
    },
    {
      "cell_type": "markdown",
      "source": [
        "##a Data Cleaning and Preprocessing"
      ],
      "metadata": {
        "id": "9YaTLLFBu8CM"
      }
    },
    {
      "cell_type": "code",
      "source": [
        "CATEGORICAL_VARIABLES = [\"gender\", \"married\", \"hypertension\", \"heart_disease\", \n",
        "                         \"residence\", \"occupation\", \"metric_3\", \"smoking_status\", \"stroke\"]\n",
        "                \n",
        "for variable in CATEGORICAL_VARIABLES:\n",
        "  data[variable] = data[variable].astype('category')"
      ],
      "metadata": {
        "id": "XqR2M1LavFBJ"
      },
      "execution_count": 224,
      "outputs": []
    },
    {
      "cell_type": "code",
      "source": [
        "data.isna().sum()"
      ],
      "metadata": {
        "colab": {
          "base_uri": "https://localhost:8080/"
        },
        "id": "h6jS1ZkUv7pZ",
        "outputId": "64cd39ae-5f15-4f51-c531-ada2c6c1e96a"
      },
      "execution_count": 225,
      "outputs": [
        {
          "output_type": "execute_result",
          "data": {
            "text/plain": [
              "gender                0\n",
              "age                   0\n",
              "married               0\n",
              "hypertension          0\n",
              "heart_disease         0\n",
              "occupation            0\n",
              "residence             0\n",
              "metric_1              0\n",
              "metric_2           1462\n",
              "metric_3              0\n",
              "metric_4              0\n",
              "metric_5              0\n",
              "smoking_status    13292\n",
              "stroke                0\n",
              "dtype: int64"
            ]
          },
          "metadata": {},
          "execution_count": 225
        }
      ]
    },
    {
      "cell_type": "markdown",
      "source": [
        "The dataset has 1462 missing values in metric_2 and 13292 smoking_status variables."
      ],
      "metadata": {
        "id": "daKb2dENv3YC"
      }
    },
    {
      "cell_type": "code",
      "source": [
        "def chi2_test(data, field_1: str, field_2:str):\n",
        "  \"\"\"\n",
        "  Independance test\n",
        "  \"\"\"\n",
        "  data_to_compute = pd.crosstab(data[field_1], data[field_2].values)\n",
        "  _, p_value, _, _ = chi2_contingency(data_to_compute)\n",
        "  return p_value < 0.05"
      ],
      "metadata": {
        "id": "5-C7MjXPv_yP"
      },
      "execution_count": 226,
      "outputs": []
    },
    {
      "cell_type": "markdown",
      "source": [
        "This function will check if categorical variables are independant in our dataset. if our p_value is less than 5% then the variables are dependant."
      ],
      "metadata": {
        "id": "PG73a4wDwG6O"
      }
    },
    {
      "cell_type": "code",
      "source": [
        "def anova(data, quantitative_field, categorical_field):\n",
        "  data_to_compute = data.copy(deep=True)\n",
        "  data_to_compute.dropna(subset=[quantitative_field], inplace=True)\n",
        "  _, p_value = f_oneway(data_to_compute[data_to_compute[categorical_field] == 0][quantitative_field],\n",
        "                        data_to_compute[data_to_compute[categorical_field] == 1][quantitative_field])\n",
        "  print(p_value)\n",
        "  return p_value < 0.05\n",
        "def box_plot(data, quantitative_field, categorical_field):\n",
        "  data_to_compute = data.copy(deep=True)\n",
        "  data_to_compute.dropna(subset=[quantitative_field], inplace=True)\n",
        "  plt.boxplot([data_to_compute[data_to_compute[categorical_field] == 0][quantitative_field], \n",
        "               data_to_compute[data_to_compute[categorical_field] == 1][quantitative_field]])\n",
        "  plt.xticks([1, 2], [0, 1])\n",
        "  plt.xlabel(\"Modality of %s \" % categorical_field)\n",
        "  plt.ylabel(quantitative_field)\n",
        "  plt.show()"
      ],
      "metadata": {
        "id": "6tl0DuKSwA6i"
      },
      "execution_count": 227,
      "outputs": []
    },
    {
      "cell_type": "markdown",
      "source": [
        "The anova function also check wether the quantitative variable have a relationship with the stoke variable or not."
      ],
      "metadata": {
        "id": "tlcoaillz8FB"
      }
    },
    {
      "cell_type": "markdown",
      "source": [
        "##b Missing value imputation"
      ],
      "metadata": {
        "id": "tFEOTvcz0AF0"
      }
    },
    {
      "cell_type": "code",
      "source": [
        "anova(data, \"metric_2\", \"stroke\")"
      ],
      "metadata": {
        "colab": {
          "base_uri": "https://localhost:8080/"
        },
        "id": "ViQXAcHrz8-a",
        "outputId": "2925d423-35bb-4013-a2e0-91d21abc2d14"
      },
      "execution_count": 228,
      "outputs": [
        {
          "output_type": "stream",
          "name": "stdout",
          "text": [
            "3.2617164765936134e-05\n"
          ]
        },
        {
          "output_type": "execute_result",
          "data": {
            "text/plain": [
              "True"
            ]
          },
          "metadata": {},
          "execution_count": 228
        }
      ]
    },
    {
      "cell_type": "code",
      "source": [
        "import matplotlib.pyplot as plt\n",
        "box_plot(data, \"metric_2\", \"stroke\")"
      ],
      "metadata": {
        "colab": {
          "base_uri": "https://localhost:8080/",
          "height": 449
        },
        "id": "_ce5rrtf0Irn",
        "outputId": "6185ca1b-f565-46e5-c6c8-f5c2baf4da9a"
      },
      "execution_count": 229,
      "outputs": [
        {
          "output_type": "display_data",
          "data": {
            "text/plain": [
              "<Figure size 640x480 with 1 Axes>"
            ],
            "image/png": "[encoded data removed]"
          },
          "metadata": {}
        }
      ]
    },
    {
      "cell_type": "markdown",
      "source": [
        "looking at the box plot, we can see that there is a change compared to the modality of stroke, this means that stroke variable is affected by metric_2\n"
      ],
      "metadata": {
        "id": "5vp_hgNO0b-0"
      }
    },
    {
      "cell_type": "markdown",
      "source": [
        "In our dataset, metric_2 and smoking_status variables have missing values. however we need to check if the missing values exceed 10% of the data information before making decision if we can delete them or proceed to missing value information."
      ],
      "metadata": {
        "id": "iFSqZVzH0gw_"
      }
    },
    {
      "cell_type": "code",
      "source": [
        "#Percent rate of missing values\n",
        "print(\"Total percent of missing values\", (data.isna().sum()[\"smoking_status\"]/len(data))*100)\n",
        "print(\"Number of missing valueby stroke modalities\\n\", data[data[\"smoking_status\"].isna()].groupby([\"stroke\"]).size())"
      ],
      "metadata": {
        "colab": {
          "base_uri": "https://localhost:8080/"
        },
        "id": "H61Bxiij0ocb",
        "outputId": "276cd5a1-d8ad-4aaf-db58-5a9af2c8a81a"
      },
      "execution_count": 230,
      "outputs": [
        {
          "output_type": "stream",
          "name": "stdout",
          "text": [
            "Total percent of missing values 30.62672811059908\n",
            "Number of missing valueby stroke modalities\n",
            " stroke\n",
            "0    13147\n",
            "1      145\n",
            "dtype: int64\n"
          ]
        }
      ]
    },
    {
      "cell_type": "markdown",
      "source": [
        "For the smoking_satus variable, our have 13147 missing value of 0 and 145 missing value for 1. The missing values percentage exceed the 10% of the data, then we are proceeding with missing value imputation. The missing_value_imputation_for_categorical function replace the missing values by the most common value in the categorical variable.\n",
        "\n"
      ],
      "metadata": {
        "id": "tacpjDQJ1LAv"
      }
    },
    {
      "cell_type": "markdown",
      "source": [
        "For metric_2 variable, we have 1462 missing values, but we do not know if by deleting those missing values, our 1 values in stroke variable will be affected. Also the missing value for 1 might represent more than 10% of the 1 values in the sttoke variable. The missing_value_imputation_for_numerical function replace the missing values by the average of value in the numerical variable."
      ],
      "metadata": {
        "id": "j8HCQVcR1PIg"
      }
    },
    {
      "cell_type": "code",
      "source": [
        "def missing_value_imputation_for_categorical(data, categorical_field):\n",
        "  mode = data[categorical_field].mode()[0]\n",
        "  data[categorical_field].fillna(value=mode, inplace=True)\n",
        "  return data\n",
        "def missing_value_imputation_for_numerical(data, quantitative_field):\n",
        "  mean = data[quantitative_field].mean()\n",
        "  data[quantitative_field].fillna(value=mean, inplace=True)\n",
        "  return data"
      ],
      "metadata": {
        "id": "3oreepD-1G57"
      },
      "execution_count": 231,
      "outputs": []
    },
    {
      "cell_type": "code",
      "source": [
        "missing_value_imputation_for_categorical(data, \"smoking_status\")"
      ],
      "metadata": {
        "colab": {
          "base_uri": "https://localhost:8080/",
          "height": 514
        },
        "id": "spkeXo-R1WoK",
        "outputId": "8c18ca53-0895-4f2f-b504-c1aabb5f79a8"
      },
      "execution_count": 232,
      "outputs": [
        {
          "output_type": "execute_result",
          "data": {
            "text/plain": [
              "       gender   age married hypertension heart_disease occupation residence  \\\n",
              "id                                                                            \n",
              "1        Male   3.0      No            0             0          A     Rural   \n",
              "2        Male  58.0     Yes            1             0          B     Urban   \n",
              "3      Female   8.0      No            0             0          B     Urban   \n",
              "4      Female  70.0     Yes            0             0          B     Rural   \n",
              "5        Male  14.0      No            0             0          C     Rural   \n",
              "...       ...   ...     ...          ...           ...        ...       ...   \n",
              "43396  Female  10.0      No            0             0          A     Urban   \n",
              "43397  Female  56.0     Yes            0             0          E     Urban   \n",
              "43398  Female  82.0     Yes            1             0          B     Urban   \n",
              "43399    Male  40.0     Yes            0             0          B     Urban   \n",
              "43400  Female  82.0     Yes            0             0          B     Urban   \n",
              "\n",
              "       metric_1  metric_2 metric_3  metric_4  metric_5   smoking_status stroke  \n",
              "id                                                                              \n",
              "1         95.12      18.0        1     99.35     95.12     never smoked      0  \n",
              "2         87.96      39.2        1     99.70     87.96     never smoked      0  \n",
              "3        110.89      17.6        0     96.35    110.89     never smoked      0  \n",
              "4         69.04      35.9        0     95.52     69.04  formerly smoked      0  \n",
              "5        161.28      19.1        1     95.10    161.28     never smoked      0  \n",
              "...         ...       ...      ...       ...       ...              ...    ...  \n",
              "43396     58.64      20.4        0     97.23     58.64     never smoked      0  \n",
              "43397    213.61      55.4        0     97.81    213.61  formerly smoked      0  \n",
              "43398     91.94      28.9        0     95.35     91.94  formerly smoked      0  \n",
              "43399     99.16      33.2        0     96.40     99.16     never smoked      0  \n",
              "43400     79.48      20.6        1     97.80     79.48     never smoked      0  \n",
              "\n",
              "[43400 rows x 14 columns]"
            ],
            "text/html": [
              "\n",
              "  <div id=\"df-4f27767e-524b-42ce-9549-dae1f1a7f29b\">\n",
              "    <div class=\"colab-df-container\">\n",
              "      <div>\n",
              "<style scoped>\n",
              "    .dataframe tbody tr th:only-of-type {\n",
              "        vertical-align: middle;\n",
              "    }\n",
              "\n",
              "    .dataframe tbody tr th {\n",
              "        vertical-align: top;\n",
              "    }\n",
              "\n",
              "    .dataframe thead th {\n",
              "        text-align: right;\n",
              "    }\n",
              "</style>\n",
              "<table border=\"1\" class=\"dataframe\">\n",
              "  <thead>\n",
              "    <tr style=\"text-align: right;\">\n",
              "      <th></th>\n",
              "      <th>gender</th>\n",
              "      <th>age</th>\n",
              "      <th>married</th>\n",
              "      <th>hypertension</th>\n",
              "      <th>heart_disease</th>\n",
              "      <th>occupation</th>\n",
              "      <th>residence</th>\n",
              "      <th>metric_1</th>\n",
              "      <th>metric_2</th>\n",
              "      <th>metric_3</th>\n",
              "      <th>metric_4</th>\n",
              "      <th>metric_5</th>\n",
              "      <th>smoking_status</th>\n",
              "      <th>stroke</th>\n",
              "    </tr>\n",
              "    <tr>\n",
              "      <th>id</th>\n",
              "      <th></th>\n",
              "      <th></th>\n",
              "      <th></th>\n",
              "      <th></th>\n",
              "      <th></th>\n",
              "      <th></th>\n",
              "      <th></th>\n",
              "      <th></th>\n",
              "      <th></th>\n",
              "      <th></th>\n",
              "      <th></th>\n",
              "      <th></th>\n",
              "      <th></th>\n",
              "      <th></th>\n",
              "    </tr>\n",
              "  </thead>\n",
              "  <tbody>\n",
              "    <tr>\n",
              "      <th>1</th>\n",
              "      <td>Male</td>\n",
              "      <td>3.0</td>\n",
              "      <td>No</td>\n",
              "      <td>0</td>\n",
              "      <td>0</td>\n",
              "      <td>A</td>\n",
              "      <td>Rural</td>\n",
              "      <td>95.12</td>\n",
              "      <td>18.0</td>\n",
              "      <td>1</td>\n",
              "      <td>99.35</td>\n",
              "      <td>95.12</td>\n",
              "      <td>never smoked</td>\n",
              "      <td>0</td>\n",
              "    </tr>\n",
              "    <tr>\n",
              "      <th>2</th>\n",
              "      <td>Male</td>\n",
              "      <td>58.0</td>\n",
              "      <td>Yes</td>\n",
              "      <td>1</td>\n",
              "      <td>0</td>\n",
              "      <td>B</td>\n",
              "      <td>Urban</td>\n",
              "      <td>87.96</td>\n",
              "      <td>39.2</td>\n",
              "      <td>1</td>\n",
              "      <td>99.70</td>\n",
              "      <td>87.96</td>\n",
              "      <td>never smoked</td>\n",
              "      <td>0</td>\n",
              "    </tr>\n",
              "    <tr>\n",
              "      <th>3</th>\n",
              "      <td>Female</td>\n",
              "      <td>8.0</td>\n",
              "      <td>No</td>\n",
              "      <td>0</td>\n",
              "      <td>0</td>\n",
              "      <td>B</td>\n",
              "      <td>Urban</td>\n",
              "      <td>110.89</td>\n",
              "      <td>17.6</td>\n",
              "      <td>0</td>\n",
              "      <td>96.35</td>\n",
              "      <td>110.89</td>\n",
              "      <td>never smoked</td>\n",
              "      <td>0</td>\n",
              "    </tr>\n",
              "    <tr>\n",
              "      <th>4</th>\n",
              "      <td>Female</td>\n",
              "      <td>70.0</td>\n",
              "      <td>Yes</td>\n",
              "      <td>0</td>\n",
              "      <td>0</td>\n",
              "      <td>B</td>\n",
              "      <td>Rural</td>\n",
              "      <td>69.04</td>\n",
              "      <td>35.9</td>\n",
              "      <td>0</td>\n",
              "      <td>95.52</td>\n",
              "      <td>69.04</td>\n",
              "      <td>formerly smoked</td>\n",
              "      <td>0</td>\n",
              "    </tr>\n",
              "    <tr>\n",
              "      <th>5</th>\n",
              "      <td>Male</td>\n",
              "      <td>14.0</td>\n",
              "      <td>No</td>\n",
              "      <td>0</td>\n",
              "      <td>0</td>\n",
              "      <td>C</td>\n",
              "      <td>Rural</td>\n",
              "      <td>161.28</td>\n",
              "      <td>19.1</td>\n",
              "      <td>1</td>\n",
              "      <td>95.10</td>\n",
              "      <td>161.28</td>\n",
              "      <td>never smoked</td>\n",
              "      <td>0</td>\n",
              "    </tr>\n",
              "    <tr>\n",
              "      <th>...</th>\n",
              "      <td>...</td>\n",
              "      <td>...</td>\n",
              "      <td>...</td>\n",
              "      <td>...</td>\n",
              "      <td>...</td>\n",
              "      <td>...</td>\n",
              "      <td>...</td>\n",
              "      <td>...</td>\n",
              "      <td>...</td>\n",
              "      <td>...</td>\n",
              "      <td>...</td>\n",
              "      <td>...</td>\n",
              "      <td>...</td>\n",
              "      <td>...</td>\n",
              "    </tr>\n",
              "    <tr>\n",
              "      <th>43396</th>\n",
              "      <td>Female</td>\n",
              "      <td>10.0</td>\n",
              "      <td>No</td>\n",
              "      <td>0</td>\n",
              "      <td>0</td>\n",
              "      <td>A</td>\n",
              "      <td>Urban</td>\n",
              "      <td>58.64</td>\n",
              "      <td>20.4</td>\n",
              "      <td>0</td>\n",
              "      <td>97.23</td>\n",
              "      <td>58.64</td>\n",
              "      <td>never smoked</td>\n",
              "      <td>0</td>\n",
              "    </tr>\n",
              "    <tr>\n",
              "      <th>43397</th>\n",
              "      <td>Female</td>\n",
              "      <td>56.0</td>\n",
              "      <td>Yes</td>\n",
              "      <td>0</td>\n",
              "      <td>0</td>\n",
              "      <td>E</td>\n",
              "      <td>Urban</td>\n",
              "      <td>213.61</td>\n",
              "      <td>55.4</td>\n",
              "      <td>0</td>\n",
              "      <td>97.81</td>\n",
              "      <td>213.61</td>\n",
              "      <td>formerly smoked</td>\n",
              "      <td>0</td>\n",
              "    </tr>\n",
              "    <tr>\n",
              "      <th>43398</th>\n",
              "      <td>Female</td>\n",
              "      <td>82.0</td>\n",
              "      <td>Yes</td>\n",
              "      <td>1</td>\n",
              "      <td>0</td>\n",
              "      <td>B</td>\n",
              "      <td>Urban</td>\n",
              "      <td>91.94</td>\n",
              "      <td>28.9</td>\n",
              "      <td>0</td>\n",
              "      <td>95.35</td>\n",
              "      <td>91.94</td>\n",
              "      <td>formerly smoked</td>\n",
              "      <td>0</td>\n",
              "    </tr>\n",
              "    <tr>\n",
              "      <th>43399</th>\n",
              "      <td>Male</td>\n",
              "      <td>40.0</td>\n",
              "      <td>Yes</td>\n",
              "      <td>0</td>\n",
              "      <td>0</td>\n",
              "      <td>B</td>\n",
              "      <td>Urban</td>\n",
              "      <td>99.16</td>\n",
              "      <td>33.2</td>\n",
              "      <td>0</td>\n",
              "      <td>96.40</td>\n",
              "      <td>99.16</td>\n",
              "      <td>never smoked</td>\n",
              "      <td>0</td>\n",
              "    </tr>\n",
              "    <tr>\n",
              "      <th>43400</th>\n",
              "      <td>Female</td>\n",
              "      <td>82.0</td>\n",
              "      <td>Yes</td>\n",
              "      <td>0</td>\n",
              "      <td>0</td>\n",
              "      <td>B</td>\n",
              "      <td>Urban</td>\n",
              "      <td>79.48</td>\n",
              "      <td>20.6</td>\n",
              "      <td>1</td>\n",
              "      <td>97.80</td>\n",
              "      <td>79.48</td>\n",
              "      <td>never smoked</td>\n",
              "      <td>0</td>\n",
              "    </tr>\n",
              "  </tbody>\n",
              "</table>\n",
              "<p>43400 rows × 14 columns</p>\n",
              "</div>\n",
              "      <button class=\"colab-df-convert\" onclick=\"convertToInteractive('df-4f27767e-524b-42ce-9549-dae1f1a7f29b')\"\n",
              "              title=\"Convert this dataframe to an interactive table.\"\n",
              "              style=\"display:none;\">\n",
              "        \n",
              "  <svg xmlns=\"http://www.w3.org/2000/svg\" height=\"24px\"viewBox=\"0 0 24 24\"\n",
              "       width=\"24px\">\n",
              "    <path d=\"M0 0h24v24H0V0z\" fill=\"none\"/>\n",
              "    <path d=\"M18.56 5.44l.94 2.06.94-2.06 2.06-.94-2.06-.94-.94-2.06-.94 2.06-2.06.94zm-11 1L8.5 8.5l.94-2.06 2.06-.94-2.06-.94L8.5 2.5l-.94 2.06-2.06.94zm10 10l.94 2.06.94-2.06 2.06-.94-2.06-.94-.94-2.06-.94 2.06-2.06.94z\"/><path d=\"M17.41 7.96l-1.37-1.37c-.4-.4-.92-.59-1.43-.59-.52 0-1.04.2-1.43.59L10.3 9.45l-7.72 7.72c-.78.78-.78 2.05 0 2.83L4 21.41c.39.39.9.59 1.41.59.51 0 1.02-.2 1.41-.59l7.78-7.78 2.81-2.81c.8-.78.8-2.07 0-2.86zM5.41 20L4 18.59l7.72-7.72 1.47 1.35L5.41 20z\"/>\n",
              "  </svg>\n",
              "      </button>\n",
              "      \n",
              "  <style>\n",
              "    .colab-df-container {\n",
              "      display:flex;\n",
              "      flex-wrap:wrap;\n",
              "      gap: 12px;\n",
              "    }\n",
              "\n",
              "    .colab-df-convert {\n",
              "      background-color: #E8F0FE;\n",
              "      border: none;\n",
              "      border-radius: 50%;\n",
              "      cursor: pointer;\n",
              "      display: none;\n",
              "      fill: #1967D2;\n",
              "      height: 32px;\n",
              "      padding: 0 0 0 0;\n",
              "      width: 32px;\n",
              "    }\n",
              "\n",
              "    .colab-df-convert:hover {\n",
              "      background-color: #E2EBFA;\n",
              "      box-shadow: 0px 1px 2px rgba(60, 64, 67, 0.3), 0px 1px 3px 1px rgba(60, 64, 67, 0.15);\n",
              "      fill: #174EA6;\n",
              "    }\n",
              "\n",
              "    [theme=dark] .colab-df-convert {\n",
              "      background-color: #3B4455;\n",
              "      fill: #D2E3FC;\n",
              "    }\n",
              "\n",
              "    [theme=dark] .colab-df-convert:hover {\n",
              "      background-color: #434B5C;\n",
              "      box-shadow: 0px 1px 3px 1px rgba(0, 0, 0, 0.15);\n",
              "      filter: drop-shadow(0px 1px 2px rgba(0, 0, 0, 0.3));\n",
              "      fill: #FFFFFF;\n",
              "    }\n",
              "  </style>\n",
              "\n",
              "      <script>\n",
              "        const buttonEl =\n",
              "          document.querySelector('#df-4f27767e-524b-42ce-9549-dae1f1a7f29b button.colab-df-convert');\n",
              "        buttonEl.style.display =\n",
              "          google.colab.kernel.accessAllowed ? 'block' : 'none';\n",
              "\n",
              "        async function convertToInteractive(key) {\n",
              "          const element = document.querySelector('#df-4f27767e-524b-42ce-9549-dae1f1a7f29b');\n",
              "          const dataTable =\n",
              "            await google.colab.kernel.invokeFunction('convertToInteractive',\n",
              "                                                     [key], {});\n",
              "          if (!dataTable) return;\n",
              "\n",
              "          const docLinkHtml = 'Like what you see? Visit the ' +\n",
              "            '<a target=\"_blank\" href=https://colab.research.google.com/notebooks/data_table.ipynb>data table notebook</a>'\n",
              "            + ' to learn more about interactive tables.';\n",
              "          element.innerHTML = '';\n",
              "          dataTable['output_type'] = 'display_data';\n",
              "          await google.colab.output.renderOutput(dataTable, element);\n",
              "          const docLink = document.createElement('div');\n",
              "          docLink.innerHTML = docLinkHtml;\n",
              "          element.appendChild(docLink);\n",
              "        }\n",
              "      </script>\n",
              "    </div>\n",
              "  </div>\n",
              "  "
            ]
          },
          "metadata": {},
          "execution_count": 232
        }
      ]
    },
    {
      "cell_type": "code",
      "source": [
        "#Percent rate of missing values\n",
        "print(\"Total percent of missing values\", (data.isna().sum()[\"metric_2\"] / len(data))*100)\n",
        "print(\"Number of missing valueby stroke modalities\\n\", data[data[\"metric_2\"].isna()].groupby([\"stroke\"]).size())\n"
      ],
      "metadata": {
        "colab": {
          "base_uri": "https://localhost:8080/"
        },
        "id": "1ee7a2JL1boA",
        "outputId": "24201585-35bb-41f9-afba-d3f020298436"
      },
      "execution_count": 233,
      "outputs": [
        {
          "output_type": "stream",
          "name": "stdout",
          "text": [
            "Total percent of missing values 3.3686635944700463\n",
            "Number of missing valueby stroke modalities\n",
            " stroke\n",
            "0    1322\n",
            "1     140\n",
            "dtype: int64\n"
          ]
        }
      ]
    },
    {
      "cell_type": "code",
      "source": [
        "missing_value_imputation_for_numerical(data, \"metric_2\")"
      ],
      "metadata": {
        "colab": {
          "base_uri": "https://localhost:8080/",
          "height": 514
        },
        "id": "FRw1J4p01x-q",
        "outputId": "bd86893b-aa0e-4dec-9a3f-83b6762db5f6"
      },
      "execution_count": 234,
      "outputs": [
        {
          "output_type": "execute_result",
          "data": {
            "text/plain": [
              "       gender   age married hypertension heart_disease occupation residence  \\\n",
              "id                                                                            \n",
              "1        Male   3.0      No            0             0          A     Rural   \n",
              "2        Male  58.0     Yes            1             0          B     Urban   \n",
              "3      Female   8.0      No            0             0          B     Urban   \n",
              "4      Female  70.0     Yes            0             0          B     Rural   \n",
              "5        Male  14.0      No            0             0          C     Rural   \n",
              "...       ...   ...     ...          ...           ...        ...       ...   \n",
              "43396  Female  10.0      No            0             0          A     Urban   \n",
              "43397  Female  56.0     Yes            0             0          E     Urban   \n",
              "43398  Female  82.0     Yes            1             0          B     Urban   \n",
              "43399    Male  40.0     Yes            0             0          B     Urban   \n",
              "43400  Female  82.0     Yes            0             0          B     Urban   \n",
              "\n",
              "       metric_1  metric_2 metric_3  metric_4  metric_5   smoking_status stroke  \n",
              "id                                                                              \n",
              "1         95.12      18.0        1     99.35     95.12     never smoked      0  \n",
              "2         87.96      39.2        1     99.70     87.96     never smoked      0  \n",
              "3        110.89      17.6        0     96.35    110.89     never smoked      0  \n",
              "4         69.04      35.9        0     95.52     69.04  formerly smoked      0  \n",
              "5        161.28      19.1        1     95.10    161.28     never smoked      0  \n",
              "...         ...       ...      ...       ...       ...              ...    ...  \n",
              "43396     58.64      20.4        0     97.23     58.64     never smoked      0  \n",
              "43397    213.61      55.4        0     97.81    213.61  formerly smoked      0  \n",
              "43398     91.94      28.9        0     95.35     91.94  formerly smoked      0  \n",
              "43399     99.16      33.2        0     96.40     99.16     never smoked      0  \n",
              "43400     79.48      20.6        1     97.80     79.48     never smoked      0  \n",
              "\n",
              "[43400 rows x 14 columns]"
            ],
            "text/html": [
              "\n",
              "  <div id=\"df-ef3e7fc4-4188-4f05-9d4b-fed2303fbf5d\">\n",
              "    <div class=\"colab-df-container\">\n",
              "      <div>\n",
              "<style scoped>\n",
              "    .dataframe tbody tr th:only-of-type {\n",
              "        vertical-align: middle;\n",
              "    }\n",
              "\n",
              "    .dataframe tbody tr th {\n",
              "        vertical-align: top;\n",
              "    }\n",
              "\n",
              "    .dataframe thead th {\n",
              "        text-align: right;\n",
              "    }\n",
              "</style>\n",
              "<table border=\"1\" class=\"dataframe\">\n",
              "  <thead>\n",
              "    <tr style=\"text-align: right;\">\n",
              "      <th></th>\n",
              "      <th>gender</th>\n",
              "      <th>age</th>\n",
              "      <th>married</th>\n",
              "      <th>hypertension</th>\n",
              "      <th>heart_disease</th>\n",
              "      <th>occupation</th>\n",
              "      <th>residence</th>\n",
              "      <th>metric_1</th>\n",
              "      <th>metric_2</th>\n",
              "      <th>metric_3</th>\n",
              "      <th>metric_4</th>\n",
              "      <th>metric_5</th>\n",
              "      <th>smoking_status</th>\n",
              "      <th>stroke</th>\n",
              "    </tr>\n",
              "    <tr>\n",
              "      <th>id</th>\n",
              "      <th></th>\n",
              "      <th></th>\n",
              "      <th></th>\n",
              "      <th></th>\n",
              "      <th></th>\n",
              "      <th></th>\n",
              "      <th></th>\n",
              "      <th></th>\n",
              "      <th></th>\n",
              "      <th></th>\n",
              "      <th></th>\n",
              "      <th></th>\n",
              "      <th></th>\n",
              "      <th></th>\n",
              "    </tr>\n",
              "  </thead>\n",
              "  <tbody>\n",
              "    <tr>\n",
              "      <th>1</th>\n",
              "      <td>Male</td>\n",
              "      <td>3.0</td>\n",
              "      <td>No</td>\n",
              "      <td>0</td>\n",
              "      <td>0</td>\n",
              "      <td>A</td>\n",
              "      <td>Rural</td>\n",
              "      <td>95.12</td>\n",
              "      <td>18.0</td>\n",
              "      <td>1</td>\n",
              "      <td>99.35</td>\n",
              "      <td>95.12</td>\n",
              "      <td>never smoked</td>\n",
              "      <td>0</td>\n",
              "    </tr>\n",
              "    <tr>\n",
              "      <th>2</th>\n",
              "      <td>Male</td>\n",
              "      <td>58.0</td>\n",
              "      <td>Yes</td>\n",
              "      <td>1</td>\n",
              "      <td>0</td>\n",
              "      <td>B</td>\n",
              "      <td>Urban</td>\n",
              "      <td>87.96</td>\n",
              "      <td>39.2</td>\n",
              "      <td>1</td>\n",
              "      <td>99.70</td>\n",
              "      <td>87.96</td>\n",
              "      <td>never smoked</td>\n",
              "      <td>0</td>\n",
              "    </tr>\n",
              "    <tr>\n",
              "      <th>3</th>\n",
              "      <td>Female</td>\n",
              "      <td>8.0</td>\n",
              "      <td>No</td>\n",
              "      <td>0</td>\n",
              "      <td>0</td>\n",
              "      <td>B</td>\n",
              "      <td>Urban</td>\n",
              "      <td>110.89</td>\n",
              "      <td>17.6</td>\n",
              "      <td>0</td>\n",
              "      <td>96.35</td>\n",
              "      <td>110.89</td>\n",
              "      <td>never smoked</td>\n",
              "      <td>0</td>\n",
              "    </tr>\n",
              "    <tr>\n",
              "      <th>4</th>\n",
              "      <td>Female</td>\n",
              "      <td>70.0</td>\n",
              "      <td>Yes</td>\n",
              "      <td>0</td>\n",
              "      <td>0</td>\n",
              "      <td>B</td>\n",
              "      <td>Rural</td>\n",
              "      <td>69.04</td>\n",
              "      <td>35.9</td>\n",
              "      <td>0</td>\n",
              "      <td>95.52</td>\n",
              "      <td>69.04</td>\n",
              "      <td>formerly smoked</td>\n",
              "      <td>0</td>\n",
              "    </tr>\n",
              "    <tr>\n",
              "      <th>5</th>\n",
              "      <td>Male</td>\n",
              "      <td>14.0</td>\n",
              "      <td>No</td>\n",
              "      <td>0</td>\n",
              "      <td>0</td>\n",
              "      <td>C</td>\n",
              "      <td>Rural</td>\n",
              "      <td>161.28</td>\n",
              "      <td>19.1</td>\n",
              "      <td>1</td>\n",
              "      <td>95.10</td>\n",
              "      <td>161.28</td>\n",
              "      <td>never smoked</td>\n",
              "      <td>0</td>\n",
              "    </tr>\n",
              "    <tr>\n",
              "      <th>...</th>\n",
              "      <td>...</td>\n",
              "      <td>...</td>\n",
              "      <td>...</td>\n",
              "      <td>...</td>\n",
              "      <td>...</td>\n",
              "      <td>...</td>\n",
              "      <td>...</td>\n",
              "      <td>...</td>\n",
              "      <td>...</td>\n",
              "      <td>...</td>\n",
              "      <td>...</td>\n",
              "      <td>...</td>\n",
              "      <td>...</td>\n",
              "      <td>...</td>\n",
              "    </tr>\n",
              "    <tr>\n",
              "      <th>43396</th>\n",
              "      <td>Female</td>\n",
              "      <td>10.0</td>\n",
              "      <td>No</td>\n",
              "      <td>0</td>\n",
              "      <td>0</td>\n",
              "      <td>A</td>\n",
              "      <td>Urban</td>\n",
              "      <td>58.64</td>\n",
              "      <td>20.4</td>\n",
              "      <td>0</td>\n",
              "      <td>97.23</td>\n",
              "      <td>58.64</td>\n",
              "      <td>never smoked</td>\n",
              "      <td>0</td>\n",
              "    </tr>\n",
              "    <tr>\n",
              "      <th>43397</th>\n",
              "      <td>Female</td>\n",
              "      <td>56.0</td>\n",
              "      <td>Yes</td>\n",
              "      <td>0</td>\n",
              "      <td>0</td>\n",
              "      <td>E</td>\n",
              "      <td>Urban</td>\n",
              "      <td>213.61</td>\n",
              "      <td>55.4</td>\n",
              "      <td>0</td>\n",
              "      <td>97.81</td>\n",
              "      <td>213.61</td>\n",
              "      <td>formerly smoked</td>\n",
              "      <td>0</td>\n",
              "    </tr>\n",
              "    <tr>\n",
              "      <th>43398</th>\n",
              "      <td>Female</td>\n",
              "      <td>82.0</td>\n",
              "      <td>Yes</td>\n",
              "      <td>1</td>\n",
              "      <td>0</td>\n",
              "      <td>B</td>\n",
              "      <td>Urban</td>\n",
              "      <td>91.94</td>\n",
              "      <td>28.9</td>\n",
              "      <td>0</td>\n",
              "      <td>95.35</td>\n",
              "      <td>91.94</td>\n",
              "      <td>formerly smoked</td>\n",
              "      <td>0</td>\n",
              "    </tr>\n",
              "    <tr>\n",
              "      <th>43399</th>\n",
              "      <td>Male</td>\n",
              "      <td>40.0</td>\n",
              "      <td>Yes</td>\n",
              "      <td>0</td>\n",
              "      <td>0</td>\n",
              "      <td>B</td>\n",
              "      <td>Urban</td>\n",
              "      <td>99.16</td>\n",
              "      <td>33.2</td>\n",
              "      <td>0</td>\n",
              "      <td>96.40</td>\n",
              "      <td>99.16</td>\n",
              "      <td>never smoked</td>\n",
              "      <td>0</td>\n",
              "    </tr>\n",
              "    <tr>\n",
              "      <th>43400</th>\n",
              "      <td>Female</td>\n",
              "      <td>82.0</td>\n",
              "      <td>Yes</td>\n",
              "      <td>0</td>\n",
              "      <td>0</td>\n",
              "      <td>B</td>\n",
              "      <td>Urban</td>\n",
              "      <td>79.48</td>\n",
              "      <td>20.6</td>\n",
              "      <td>1</td>\n",
              "      <td>97.80</td>\n",
              "      <td>79.48</td>\n",
              "      <td>never smoked</td>\n",
              "      <td>0</td>\n",
              "    </tr>\n",
              "  </tbody>\n",
              "</table>\n",
              "<p>43400 rows × 14 columns</p>\n",
              "</div>\n",
              "      <button class=\"colab-df-convert\" onclick=\"convertToInteractive('df-ef3e7fc4-4188-4f05-9d4b-fed2303fbf5d')\"\n",
              "              title=\"Convert this dataframe to an interactive table.\"\n",
              "              style=\"display:none;\">\n",
              "        \n",
              "  <svg xmlns=\"http://www.w3.org/2000/svg\" height=\"24px\"viewBox=\"0 0 24 24\"\n",
              "       width=\"24px\">\n",
              "    <path d=\"M0 0h24v24H0V0z\" fill=\"none\"/>\n",
              "    <path d=\"M18.56 5.44l.94 2.06.94-2.06 2.06-.94-2.06-.94-.94-2.06-.94 2.06-2.06.94zm-11 1L8.5 8.5l.94-2.06 2.06-.94-2.06-.94L8.5 2.5l-.94 2.06-2.06.94zm10 10l.94 2.06.94-2.06 2.06-.94-2.06-.94-.94-2.06-.94 2.06-2.06.94z\"/><path d=\"M17.41 7.96l-1.37-1.37c-.4-.4-.92-.59-1.43-.59-.52 0-1.04.2-1.43.59L10.3 9.45l-7.72 7.72c-.78.78-.78 2.05 0 2.83L4 21.41c.39.39.9.59 1.41.59.51 0 1.02-.2 1.41-.59l7.78-7.78 2.81-2.81c.8-.78.8-2.07 0-2.86zM5.41 20L4 18.59l7.72-7.72 1.47 1.35L5.41 20z\"/>\n",
              "  </svg>\n",
              "      </button>\n",
              "      \n",
              "  <style>\n",
              "    .colab-df-container {\n",
              "      display:flex;\n",
              "      flex-wrap:wrap;\n",
              "      gap: 12px;\n",
              "    }\n",
              "\n",
              "    .colab-df-convert {\n",
              "      background-color: #E8F0FE;\n",
              "      border: none;\n",
              "      border-radius: 50%;\n",
              "      cursor: pointer;\n",
              "      display: none;\n",
              "      fill: #1967D2;\n",
              "      height: 32px;\n",
              "      padding: 0 0 0 0;\n",
              "      width: 32px;\n",
              "    }\n",
              "\n",
              "    .colab-df-convert:hover {\n",
              "      background-color: #E2EBFA;\n",
              "      box-shadow: 0px 1px 2px rgba(60, 64, 67, 0.3), 0px 1px 3px 1px rgba(60, 64, 67, 0.15);\n",
              "      fill: #174EA6;\n",
              "    }\n",
              "\n",
              "    [theme=dark] .colab-df-convert {\n",
              "      background-color: #3B4455;\n",
              "      fill: #D2E3FC;\n",
              "    }\n",
              "\n",
              "    [theme=dark] .colab-df-convert:hover {\n",
              "      background-color: #434B5C;\n",
              "      box-shadow: 0px 1px 3px 1px rgba(0, 0, 0, 0.15);\n",
              "      filter: drop-shadow(0px 1px 2px rgba(0, 0, 0, 0.3));\n",
              "      fill: #FFFFFF;\n",
              "    }\n",
              "  </style>\n",
              "\n",
              "      <script>\n",
              "        const buttonEl =\n",
              "          document.querySelector('#df-ef3e7fc4-4188-4f05-9d4b-fed2303fbf5d button.colab-df-convert');\n",
              "        buttonEl.style.display =\n",
              "          google.colab.kernel.accessAllowed ? 'block' : 'none';\n",
              "\n",
              "        async function convertToInteractive(key) {\n",
              "          const element = document.querySelector('#df-ef3e7fc4-4188-4f05-9d4b-fed2303fbf5d');\n",
              "          const dataTable =\n",
              "            await google.colab.kernel.invokeFunction('convertToInteractive',\n",
              "                                                     [key], {});\n",
              "          if (!dataTable) return;\n",
              "\n",
              "          const docLinkHtml = 'Like what you see? Visit the ' +\n",
              "            '<a target=\"_blank\" href=https://colab.research.google.com/notebooks/data_table.ipynb>data table notebook</a>'\n",
              "            + ' to learn more about interactive tables.';\n",
              "          element.innerHTML = '';\n",
              "          dataTable['output_type'] = 'display_data';\n",
              "          await google.colab.output.renderOutput(dataTable, element);\n",
              "          const docLink = document.createElement('div');\n",
              "          docLink.innerHTML = docLinkHtml;\n",
              "          element.appendChild(docLink);\n",
              "        }\n",
              "      </script>\n",
              "    </div>\n",
              "  </div>\n",
              "  "
            ]
          },
          "metadata": {},
          "execution_count": 234
        }
      ]
    },
    {
      "cell_type": "code",
      "source": [
        "data.isna().sum()"
      ],
      "metadata": {
        "colab": {
          "base_uri": "https://localhost:8080/"
        },
        "id": "6ETp7bpC3zgr",
        "outputId": "14ea715d-eebd-4a47-e5be-ab4181ece474"
      },
      "execution_count": 235,
      "outputs": [
        {
          "output_type": "execute_result",
          "data": {
            "text/plain": [
              "gender            0\n",
              "age               0\n",
              "married           0\n",
              "hypertension      0\n",
              "heart_disease     0\n",
              "occupation        0\n",
              "residence         0\n",
              "metric_1          0\n",
              "metric_2          0\n",
              "metric_3          0\n",
              "metric_4          0\n",
              "metric_5          0\n",
              "smoking_status    0\n",
              "stroke            0\n",
              "dtype: int64"
            ]
          },
          "metadata": {},
          "execution_count": 235
        }
      ]
    },
    {
      "cell_type": "code",
      "source": [
        "data.describe()"
      ],
      "metadata": {
        "colab": {
          "base_uri": "https://localhost:8080/",
          "height": 297
        },
        "id": "eIvRDHrs5H3d",
        "outputId": "cacee80a-fc04-475e-d8e8-5b4e4f541ac0"
      },
      "execution_count": 236,
      "outputs": [
        {
          "output_type": "execute_result",
          "data": {
            "text/plain": [
              "                age      metric_1      metric_2      metric_4      metric_5\n",
              "count  43400.000000  43400.000000  43400.000000  43400.000000  43400.000000\n",
              "mean      42.261212    104.482750     28.605038     97.526855    104.482750\n",
              "std       23.438911     43.111751      7.638023      1.466703     43.111751\n",
              "min      -10.000000     55.000000     10.100000     87.420000     55.000000\n",
              "25%       24.000000     77.540000     23.400000     96.590000     77.540000\n",
              "50%       44.000000     91.580000     28.100000     97.610000     91.580000\n",
              "75%       60.000000    112.070000     32.600000     98.700000    112.070000\n",
              "max     1000.000000    291.050000     97.600000    100.000000    291.050000"
            ],
            "text/html": [
              "\n",
              "  <div id=\"df-008634a2-382d-4713-83d6-3428e79486f1\">\n",
              "    <div class=\"colab-df-container\">\n",
              "      <div>\n",
              "<style scoped>\n",
              "    .dataframe tbody tr th:only-of-type {\n",
              "        vertical-align: middle;\n",
              "    }\n",
              "\n",
              "    .dataframe tbody tr th {\n",
              "        vertical-align: top;\n",
              "    }\n",
              "\n",
              "    .dataframe thead th {\n",
              "        text-align: right;\n",
              "    }\n",
              "</style>\n",
              "<table border=\"1\" class=\"dataframe\">\n",
              "  <thead>\n",
              "    <tr style=\"text-align: right;\">\n",
              "      <th></th>\n",
              "      <th>age</th>\n",
              "      <th>metric_1</th>\n",
              "      <th>metric_2</th>\n",
              "      <th>metric_4</th>\n",
              "      <th>metric_5</th>\n",
              "    </tr>\n",
              "  </thead>\n",
              "  <tbody>\n",
              "    <tr>\n",
              "      <th>count</th>\n",
              "      <td>43400.000000</td>\n",
              "      <td>43400.000000</td>\n",
              "      <td>43400.000000</td>\n",
              "      <td>43400.000000</td>\n",
              "      <td>43400.000000</td>\n",
              "    </tr>\n",
              "    <tr>\n",
              "      <th>mean</th>\n",
              "      <td>42.261212</td>\n",
              "      <td>104.482750</td>\n",
              "      <td>28.605038</td>\n",
              "      <td>97.526855</td>\n",
              "      <td>104.482750</td>\n",
              "    </tr>\n",
              "    <tr>\n",
              "      <th>std</th>\n",
              "      <td>23.438911</td>\n",
              "      <td>43.111751</td>\n",
              "      <td>7.638023</td>\n",
              "      <td>1.466703</td>\n",
              "      <td>43.111751</td>\n",
              "    </tr>\n",
              "    <tr>\n",
              "      <th>min</th>\n",
              "      <td>-10.000000</td>\n",
              "      <td>55.000000</td>\n",
              "      <td>10.100000</td>\n",
              "      <td>87.420000</td>\n",
              "      <td>55.000000</td>\n",
              "    </tr>\n",
              "    <tr>\n",
              "      <th>25%</th>\n",
              "      <td>24.000000</td>\n",
              "      <td>77.540000</td>\n",
              "      <td>23.400000</td>\n",
              "      <td>96.590000</td>\n",
              "      <td>77.540000</td>\n",
              "    </tr>\n",
              "    <tr>\n",
              "      <th>50%</th>\n",
              "      <td>44.000000</td>\n",
              "      <td>91.580000</td>\n",
              "      <td>28.100000</td>\n",
              "      <td>97.610000</td>\n",
              "      <td>91.580000</td>\n",
              "    </tr>\n",
              "    <tr>\n",
              "      <th>75%</th>\n",
              "      <td>60.000000</td>\n",
              "      <td>112.070000</td>\n",
              "      <td>32.600000</td>\n",
              "      <td>98.700000</td>\n",
              "      <td>112.070000</td>\n",
              "    </tr>\n",
              "    <tr>\n",
              "      <th>max</th>\n",
              "      <td>1000.000000</td>\n",
              "      <td>291.050000</td>\n",
              "      <td>97.600000</td>\n",
              "      <td>100.000000</td>\n",
              "      <td>291.050000</td>\n",
              "    </tr>\n",
              "  </tbody>\n",
              "</table>\n",
              "</div>\n",
              "      <button class=\"colab-df-convert\" onclick=\"convertToInteractive('df-008634a2-382d-4713-83d6-3428e79486f1')\"\n",
              "              title=\"Convert this dataframe to an interactive table.\"\n",
              "              style=\"display:none;\">\n",
              "        \n",
              "  <svg xmlns=\"http://www.w3.org/2000/svg\" height=\"24px\"viewBox=\"0 0 24 24\"\n",
              "       width=\"24px\">\n",
              "    <path d=\"M0 0h24v24H0V0z\" fill=\"none\"/>\n",
              "    <path d=\"M18.56 5.44l.94 2.06.94-2.06 2.06-.94-2.06-.94-.94-2.06-.94 2.06-2.06.94zm-11 1L8.5 8.5l.94-2.06 2.06-.94-2.06-.94L8.5 2.5l-.94 2.06-2.06.94zm10 10l.94 2.06.94-2.06 2.06-.94-2.06-.94-.94-2.06-.94 2.06-2.06.94z\"/><path d=\"M17.41 7.96l-1.37-1.37c-.4-.4-.92-.59-1.43-.59-.52 0-1.04.2-1.43.59L10.3 9.45l-7.72 7.72c-.78.78-.78 2.05 0 2.83L4 21.41c.39.39.9.59 1.41.59.51 0 1.02-.2 1.41-.59l7.78-7.78 2.81-2.81c.8-.78.8-2.07 0-2.86zM5.41 20L4 18.59l7.72-7.72 1.47 1.35L5.41 20z\"/>\n",
              "  </svg>\n",
              "      </button>\n",
              "      \n",
              "  <style>\n",
              "    .colab-df-container {\n",
              "      display:flex;\n",
              "      flex-wrap:wrap;\n",
              "      gap: 12px;\n",
              "    }\n",
              "\n",
              "    .colab-df-convert {\n",
              "      background-color: #E8F0FE;\n",
              "      border: none;\n",
              "      border-radius: 50%;\n",
              "      cursor: pointer;\n",
              "      display: none;\n",
              "      fill: #1967D2;\n",
              "      height: 32px;\n",
              "      padding: 0 0 0 0;\n",
              "      width: 32px;\n",
              "    }\n",
              "\n",
              "    .colab-df-convert:hover {\n",
              "      background-color: #E2EBFA;\n",
              "      box-shadow: 0px 1px 2px rgba(60, 64, 67, 0.3), 0px 1px 3px 1px rgba(60, 64, 67, 0.15);\n",
              "      fill: #174EA6;\n",
              "    }\n",
              "\n",
              "    [theme=dark] .colab-df-convert {\n",
              "      background-color: #3B4455;\n",
              "      fill: #D2E3FC;\n",
              "    }\n",
              "\n",
              "    [theme=dark] .colab-df-convert:hover {\n",
              "      background-color: #434B5C;\n",
              "      box-shadow: 0px 1px 3px 1px rgba(0, 0, 0, 0.15);\n",
              "      filter: drop-shadow(0px 1px 2px rgba(0, 0, 0, 0.3));\n",
              "      fill: #FFFFFF;\n",
              "    }\n",
              "  </style>\n",
              "\n",
              "      <script>\n",
              "        const buttonEl =\n",
              "          document.querySelector('#df-008634a2-382d-4713-83d6-3428e79486f1 button.colab-df-convert');\n",
              "        buttonEl.style.display =\n",
              "          google.colab.kernel.accessAllowed ? 'block' : 'none';\n",
              "\n",
              "        async function convertToInteractive(key) {\n",
              "          const element = document.querySelector('#df-008634a2-382d-4713-83d6-3428e79486f1');\n",
              "          const dataTable =\n",
              "            await google.colab.kernel.invokeFunction('convertToInteractive',\n",
              "                                                     [key], {});\n",
              "          if (!dataTable) return;\n",
              "\n",
              "          const docLinkHtml = 'Like what you see? Visit the ' +\n",
              "            '<a target=\"_blank\" href=https://colab.research.google.com/notebooks/data_table.ipynb>data table notebook</a>'\n",
              "            + ' to learn more about interactive tables.';\n",
              "          element.innerHTML = '';\n",
              "          dataTable['output_type'] = 'display_data';\n",
              "          await google.colab.output.renderOutput(dataTable, element);\n",
              "          const docLink = document.createElement('div');\n",
              "          docLink.innerHTML = docLinkHtml;\n",
              "          element.appendChild(docLink);\n",
              "        }\n",
              "      </script>\n",
              "    </div>\n",
              "  </div>\n",
              "  "
            ]
          },
          "metadata": {},
          "execution_count": 236
        }
      ]
    },
    {
      "cell_type": "markdown",
      "source": [
        "looking at the description of our dataset, we can note that:\n",
        "1. fortheagecolumn,wehaveatotalof43400values.Themeanis42.26andthestandard deviation is 23.43. The minimum age is -10 and the maximum age is 1000 which cannot be accurate because we cannot have a negative age and probably do not attein 1000 years. 25% of the people have less than 24 years and 75% have more than 24 years. 50% of the people have less than 44 and 50% have more than 44. 75% of the people are less than 60 and 15 % are more than 60.\n",
        "\n",
        "2. forthemetric_1column,wehaveatotalof43400values.Themeanis104.48andthe standard deviation is 43.11. The minimum value is 55 and the maximum age is 291. 25% of the values are less than 77.54 and 75% values are more than 77.54. 50% of the values are less than 91.58 and 50% of the values are more than 91.58. 75% of the values are less than 112.07 and 15 % of the values are more than 112.07.\n",
        "\n",
        "3. forthemetric_2column,wehaveatotalof43400values.Themeanis28.60andthe standard deviation is 7.63. The minimum value is 10.1 and the maximum age is 291. 25% of the values are less than 23.4 and 75% values are more than 23.4. 50% of the values are less than 28.1 and 50% of the values are more than 28.1. 75% of the values are less than 97.6 and 15 % of the values are more than 97.6.\n",
        "\n",
        "4. forthemetric_1column,wehaveatotalof43400values.Themeanis97.52andthe standard deviation is 1.46. The minimum value is 87.42 and the maximum age is 100. 25% of the values are less than 96.5 and 75% values are more than 96.5. 50% of the values are less than 97.61 and 50% of the values are more than 97.61. 75% of the values are less than 98.7 and 15 % of the values are more than 98.7.\n",
        "\n",
        "5. forthemetric_5column,wehaveatotalof43400values.Themeanis104.48andthe standard deviation is 43.11. The minimum value is 55 and the maximum age is 291. 25% of the values are less than 77.54 and 75% values are more than 77.54. 50% of the values are less than 91.58 and 50% of the values are more than 91.58. 75% of the values are less than 112.07 and 15 % of the values are more than 112.07.\n",
        "\n",
        "the metric_1 and metric_4 have the same values count, mean, std, min, 25%, 50%, 75% and max. But can we say that metric_5 is a duplicate of metric_1? We will need to verify if there is a correlation between those variables."
      ],
      "metadata": {
        "id": "vNgf2Bzu-czz"
      }
    },
    {
      "cell_type": "code",
      "source": [
        "for variable in CATEGORICAL_VARIABLES:\n",
        "  print(\"##### %s\" % variable)\n",
        "  print(data[variable].value_counts(normalize=True).mul(100).round(2).astype(str))"
      ],
      "metadata": {
        "colab": {
          "base_uri": "https://localhost:8080/"
        },
        "id": "YdjX9Fji-tMh",
        "outputId": "f664895b-26a1-4a34-da62-7b4e8c4f761b"
      },
      "execution_count": 237,
      "outputs": [
        {
          "output_type": "stream",
          "name": "stdout",
          "text": [
            "##### gender\n",
            "Female    59.14\n",
            "Male      40.84\n",
            "Other      0.03\n",
            "Name: gender, dtype: object\n",
            "##### married\n",
            "Yes    64.37\n",
            "No     35.63\n",
            "Name: married, dtype: object\n",
            "##### hypertension\n",
            "0    90.64\n",
            "1     9.36\n",
            "Name: hypertension, dtype: object\n",
            "##### heart_disease\n",
            "0    95.25\n",
            "1     4.75\n",
            "Name: heart_disease, dtype: object\n",
            "##### residence\n",
            "Urban    50.13\n",
            "Rural    49.87\n",
            "Name: residence, dtype: object\n",
            "##### occupation\n",
            "B    57.22\n",
            "D    15.65\n",
            "A    14.18\n",
            "E    12.53\n",
            "C     0.41\n",
            "Name: occupation, dtype: object\n",
            "##### metric_3\n",
            "0    71.01\n",
            "1    28.99\n",
            "Name: metric_3, dtype: object\n",
            "##### smoking_status\n",
            "never smoked       67.62\n",
            "formerly smoked    17.26\n",
            "smokes             15.12\n",
            "Name: smoking_status, dtype: object\n",
            "##### stroke\n",
            "0    98.2\n",
            "1     1.8\n",
            "Name: stroke, dtype: object\n"
          ]
        }
      ]
    },
    {
      "cell_type": "markdown",
      "source": [
        "this result show us the percentage of each value in each categorical variable. for gender variable we have 3 values. female represent 59.15%, male represent 40.84% and other represent 0.03%. for married variable: we have 2 values. yes represent 64.37% and no represent 35.63%. for hypertension we have 2 values. 0 represent 95.25% and 1 represent 4.75% for residence variable we have 2 values. urban represent 50.13% and rural represent 49.87%. for smoking_status variable, we have 3 values never smoked represent 67.62% formerly smoked represent 17.26% and smokes represent 15.12%. for metric_3 we have 2 values. 0 represent 71.01% and 1 represent 28.99%. for stroke we have 2 values. 0 represent 98.2% and 1 represent 1.8%. Hence we are dealing with an imbalanced data."
      ],
      "metadata": {
        "id": "4hlQYCu5-4s7"
      }
    },
    {
      "cell_type": "markdown",
      "source": [
        "##c. Bivariate analysis 1vs1"
      ],
      "metadata": {
        "id": "IF-uYISi-8eV"
      }
    },
    {
      "cell_type": "markdown",
      "source": [
        "We compare the Target variable (\"stroke\") to the other categorical and quatitative variables to see whether those variables affect the stroke variable. If they do not provide any information we can then delete them since they are not useful in our analysis."
      ],
      "metadata": {
        "id": "o2yuFKzx-_Bn"
      }
    },
    {
      "cell_type": "markdown",
      "source": [
        "##d. stroke vs categorical_variables"
      ],
      "metadata": {
        "id": "OIV8RA0z_CER"
      }
    },
    {
      "cell_type": "code",
      "source": [
        "results = {\"variable\": [], \"is_dependant_to_target\": []}\n",
        "for categorical_var in CATEGORICAL_VARIABLES:\n",
        "  results[\"variable\"].append(categorical_var)\n",
        "  results[\"is_dependant_to_target\"].append(chi2_test(data, TARGET_VARIABLE, categorical_var))\n",
        "results = pd.DataFrame(results)"
      ],
      "metadata": {
        "id": "gnJ-t2Wh-5bk"
      },
      "execution_count": 238,
      "outputs": []
    },
    {
      "cell_type": "code",
      "source": [
        "results"
      ],
      "metadata": {
        "colab": {
          "base_uri": "https://localhost:8080/",
          "height": 328
        },
        "id": "TJ1S32tv_bfC",
        "outputId": "e071a1bf-444a-4da3-dd98-6bb810715d68"
      },
      "execution_count": 239,
      "outputs": [
        {
          "output_type": "execute_result",
          "data": {
            "text/plain": [
              "         variable  is_dependant_to_target\n",
              "0          gender                   False\n",
              "1         married                    True\n",
              "2    hypertension                    True\n",
              "3   heart_disease                    True\n",
              "4       residence                   False\n",
              "5      occupation                    True\n",
              "6        metric_3                   False\n",
              "7  smoking_status                    True\n",
              "8          stroke                    True"
            ],
            "text/html": [
              "\n",
              "  <div id=\"df-b50ef1e9-302e-46a1-8e1b-de64ede8ba5e\">\n",
              "    <div class=\"colab-df-container\">\n",
              "      <div>\n",
              "<style scoped>\n",
              "    .dataframe tbody tr th:only-of-type {\n",
              "        vertical-align: middle;\n",
              "    }\n",
              "\n",
              "    .dataframe tbody tr th {\n",
              "        vertical-align: top;\n",
              "    }\n",
              "\n",
              "    .dataframe thead th {\n",
              "        text-align: right;\n",
              "    }\n",
              "</style>\n",
              "<table border=\"1\" class=\"dataframe\">\n",
              "  <thead>\n",
              "    <tr style=\"text-align: right;\">\n",
              "      <th></th>\n",
              "      <th>variable</th>\n",
              "      <th>is_dependant_to_target</th>\n",
              "    </tr>\n",
              "  </thead>\n",
              "  <tbody>\n",
              "    <tr>\n",
              "      <th>0</th>\n",
              "      <td>gender</td>\n",
              "      <td>False</td>\n",
              "    </tr>\n",
              "    <tr>\n",
              "      <th>1</th>\n",
              "      <td>married</td>\n",
              "      <td>True</td>\n",
              "    </tr>\n",
              "    <tr>\n",
              "      <th>2</th>\n",
              "      <td>hypertension</td>\n",
              "      <td>True</td>\n",
              "    </tr>\n",
              "    <tr>\n",
              "      <th>3</th>\n",
              "      <td>heart_disease</td>\n",
              "      <td>True</td>\n",
              "    </tr>\n",
              "    <tr>\n",
              "      <th>4</th>\n",
              "      <td>residence</td>\n",
              "      <td>False</td>\n",
              "    </tr>\n",
              "    <tr>\n",
              "      <th>5</th>\n",
              "      <td>occupation</td>\n",
              "      <td>True</td>\n",
              "    </tr>\n",
              "    <tr>\n",
              "      <th>6</th>\n",
              "      <td>metric_3</td>\n",
              "      <td>False</td>\n",
              "    </tr>\n",
              "    <tr>\n",
              "      <th>7</th>\n",
              "      <td>smoking_status</td>\n",
              "      <td>True</td>\n",
              "    </tr>\n",
              "    <tr>\n",
              "      <th>8</th>\n",
              "      <td>stroke</td>\n",
              "      <td>True</td>\n",
              "    </tr>\n",
              "  </tbody>\n",
              "</table>\n",
              "</div>\n",
              "      <button class=\"colab-df-convert\" onclick=\"convertToInteractive('df-b50ef1e9-302e-46a1-8e1b-de64ede8ba5e')\"\n",
              "              title=\"Convert this dataframe to an interactive table.\"\n",
              "              style=\"display:none;\">\n",
              "        \n",
              "  <svg xmlns=\"http://www.w3.org/2000/svg\" height=\"24px\"viewBox=\"0 0 24 24\"\n",
              "       width=\"24px\">\n",
              "    <path d=\"M0 0h24v24H0V0z\" fill=\"none\"/>\n",
              "    <path d=\"M18.56 5.44l.94 2.06.94-2.06 2.06-.94-2.06-.94-.94-2.06-.94 2.06-2.06.94zm-11 1L8.5 8.5l.94-2.06 2.06-.94-2.06-.94L8.5 2.5l-.94 2.06-2.06.94zm10 10l.94 2.06.94-2.06 2.06-.94-2.06-.94-.94-2.06-.94 2.06-2.06.94z\"/><path d=\"M17.41 7.96l-1.37-1.37c-.4-.4-.92-.59-1.43-.59-.52 0-1.04.2-1.43.59L10.3 9.45l-7.72 7.72c-.78.78-.78 2.05 0 2.83L4 21.41c.39.39.9.59 1.41.59.51 0 1.02-.2 1.41-.59l7.78-7.78 2.81-2.81c.8-.78.8-2.07 0-2.86zM5.41 20L4 18.59l7.72-7.72 1.47 1.35L5.41 20z\"/>\n",
              "  </svg>\n",
              "      </button>\n",
              "      \n",
              "  <style>\n",
              "    .colab-df-container {\n",
              "      display:flex;\n",
              "      flex-wrap:wrap;\n",
              "      gap: 12px;\n",
              "    }\n",
              "\n",
              "    .colab-df-convert {\n",
              "      background-color: #E8F0FE;\n",
              "      border: none;\n",
              "      border-radius: 50%;\n",
              "      cursor: pointer;\n",
              "      display: none;\n",
              "      fill: #1967D2;\n",
              "      height: 32px;\n",
              "      padding: 0 0 0 0;\n",
              "      width: 32px;\n",
              "    }\n",
              "\n",
              "    .colab-df-convert:hover {\n",
              "      background-color: #E2EBFA;\n",
              "      box-shadow: 0px 1px 2px rgba(60, 64, 67, 0.3), 0px 1px 3px 1px rgba(60, 64, 67, 0.15);\n",
              "      fill: #174EA6;\n",
              "    }\n",
              "\n",
              "    [theme=dark] .colab-df-convert {\n",
              "      background-color: #3B4455;\n",
              "      fill: #D2E3FC;\n",
              "    }\n",
              "\n",
              "    [theme=dark] .colab-df-convert:hover {\n",
              "      background-color: #434B5C;\n",
              "      box-shadow: 0px 1px 3px 1px rgba(0, 0, 0, 0.15);\n",
              "      filter: drop-shadow(0px 1px 2px rgba(0, 0, 0, 0.3));\n",
              "      fill: #FFFFFF;\n",
              "    }\n",
              "  </style>\n",
              "\n",
              "      <script>\n",
              "        const buttonEl =\n",
              "          document.querySelector('#df-b50ef1e9-302e-46a1-8e1b-de64ede8ba5e button.colab-df-convert');\n",
              "        buttonEl.style.display =\n",
              "          google.colab.kernel.accessAllowed ? 'block' : 'none';\n",
              "\n",
              "        async function convertToInteractive(key) {\n",
              "          const element = document.querySelector('#df-b50ef1e9-302e-46a1-8e1b-de64ede8ba5e');\n",
              "          const dataTable =\n",
              "            await google.colab.kernel.invokeFunction('convertToInteractive',\n",
              "                                                     [key], {});\n",
              "          if (!dataTable) return;\n",
              "\n",
              "          const docLinkHtml = 'Like what you see? Visit the ' +\n",
              "            '<a target=\"_blank\" href=https://colab.research.google.com/notebooks/data_table.ipynb>data table notebook</a>'\n",
              "            + ' to learn more about interactive tables.';\n",
              "          element.innerHTML = '';\n",
              "          dataTable['output_type'] = 'display_data';\n",
              "          await google.colab.output.renderOutput(dataTable, element);\n",
              "          const docLink = document.createElement('div');\n",
              "          docLink.innerHTML = docLinkHtml;\n",
              "          element.appendChild(docLink);\n",
              "        }\n",
              "      </script>\n",
              "    </div>\n",
              "  </div>\n",
              "  "
            ]
          },
          "metadata": {},
          "execution_count": 239
        }
      ]
    },
    {
      "cell_type": "markdown",
      "source": [
        "The result show that married, hypertension, heart_disease and smoking status variables have a relationship with stroke variable. Since gender, residence and metric_3 are not providing any information, we can delete them."
      ],
      "metadata": {
        "id": "_TfTCdnj_eNO"
      }
    },
    {
      "cell_type": "code",
      "source": [
        "POTENTIAL_NOT_CORRELATED_VARIABLES = results[results[\"is_dependant_to_target\"] == False]\n",
        "for variable in POTENTIAL_NOT_CORRELATED_VARIABLES[\"variable\"]:\n",
        "  data.drop(variable, axis=1, inplace=True)"
      ],
      "metadata": {
        "id": "tCDJABti_exp"
      },
      "execution_count": 240,
      "outputs": []
    },
    {
      "cell_type": "markdown",
      "source": [
        "##e. stroke vs quantitative variables"
      ],
      "metadata": {
        "id": "KzhCfXm5_2hD"
      }
    },
    {
      "cell_type": "code",
      "source": [
        "QUANTITATIVE_VARIABLES = [\"age\", \"metric_1\", \"metric_2\", \"metric_4\", \"metric_5\"]"
      ],
      "metadata": {
        "id": "JKjiGK2-_4Mw"
      },
      "execution_count": 241,
      "outputs": []
    },
    {
      "cell_type": "code",
      "source": [
        "results = {\"variable\": [], \"is_dependant_to_target\": []}\n",
        "for var in QUANTITATIVE_VARIABLES:\n",
        "  results[\"variable\"].append(var)\n",
        "  results[\"is_dependant_to_target\"].append(anova(data, quantitative_field=var, categorical_field=TARGET_VARIABLE))\n",
        "results = pd.DataFrame(results)"
      ],
      "metadata": {
        "colab": {
          "base_uri": "https://localhost:8080/"
        },
        "id": "-9IyWMb3_-F9",
        "outputId": "35b7a6c9-f537-47b8-f50e-11fa0226422c"
      },
      "execution_count": 242,
      "outputs": [
        {
          "output_type": "stream",
          "name": "stdout",
          "text": [
            "7.598281390928935e-216\n",
            "6.466046156691e-61\n",
            "0.0001255767089141812\n",
            "0.09199234392542328\n",
            "6.466046156691e-61\n"
          ]
        }
      ]
    },
    {
      "cell_type": "code",
      "source": [
        "results"
      ],
      "metadata": {
        "colab": {
          "base_uri": "https://localhost:8080/",
          "height": 204
        },
        "id": "X6IRnvg4A9Nb",
        "outputId": "1fa79ee3-51ef-4963-832c-fb874ddd37ef"
      },
      "execution_count": 243,
      "outputs": [
        {
          "output_type": "execute_result",
          "data": {
            "text/plain": [
              "   variable  is_dependant_to_target\n",
              "0       age                    True\n",
              "1  metric_1                    True\n",
              "2  metric_2                    True\n",
              "3  metric_4                   False\n",
              "4  metric_5                    True"
            ],
            "text/html": [
              "\n",
              "  <div id=\"df-47698446-bc21-4d0a-a9dc-67fa4ec7c812\">\n",
              "    <div class=\"colab-df-container\">\n",
              "      <div>\n",
              "<style scoped>\n",
              "    .dataframe tbody tr th:only-of-type {\n",
              "        vertical-align: middle;\n",
              "    }\n",
              "\n",
              "    .dataframe tbody tr th {\n",
              "        vertical-align: top;\n",
              "    }\n",
              "\n",
              "    .dataframe thead th {\n",
              "        text-align: right;\n",
              "    }\n",
              "</style>\n",
              "<table border=\"1\" class=\"dataframe\">\n",
              "  <thead>\n",
              "    <tr style=\"text-align: right;\">\n",
              "      <th></th>\n",
              "      <th>variable</th>\n",
              "      <th>is_dependant_to_target</th>\n",
              "    </tr>\n",
              "  </thead>\n",
              "  <tbody>\n",
              "    <tr>\n",
              "      <th>0</th>\n",
              "      <td>age</td>\n",
              "      <td>True</td>\n",
              "    </tr>\n",
              "    <tr>\n",
              "      <th>1</th>\n",
              "      <td>metric_1</td>\n",
              "      <td>True</td>\n",
              "    </tr>\n",
              "    <tr>\n",
              "      <th>2</th>\n",
              "      <td>metric_2</td>\n",
              "      <td>True</td>\n",
              "    </tr>\n",
              "    <tr>\n",
              "      <th>3</th>\n",
              "      <td>metric_4</td>\n",
              "      <td>False</td>\n",
              "    </tr>\n",
              "    <tr>\n",
              "      <th>4</th>\n",
              "      <td>metric_5</td>\n",
              "      <td>True</td>\n",
              "    </tr>\n",
              "  </tbody>\n",
              "</table>\n",
              "</div>\n",
              "      <button class=\"colab-df-convert\" onclick=\"convertToInteractive('df-47698446-bc21-4d0a-a9dc-67fa4ec7c812')\"\n",
              "              title=\"Convert this dataframe to an interactive table.\"\n",
              "              style=\"display:none;\">\n",
              "        \n",
              "  <svg xmlns=\"http://www.w3.org/2000/svg\" height=\"24px\"viewBox=\"0 0 24 24\"\n",
              "       width=\"24px\">\n",
              "    <path d=\"M0 0h24v24H0V0z\" fill=\"none\"/>\n",
              "    <path d=\"M18.56 5.44l.94 2.06.94-2.06 2.06-.94-2.06-.94-.94-2.06-.94 2.06-2.06.94zm-11 1L8.5 8.5l.94-2.06 2.06-.94-2.06-.94L8.5 2.5l-.94 2.06-2.06.94zm10 10l.94 2.06.94-2.06 2.06-.94-2.06-.94-.94-2.06-.94 2.06-2.06.94z\"/><path d=\"M17.41 7.96l-1.37-1.37c-.4-.4-.92-.59-1.43-.59-.52 0-1.04.2-1.43.59L10.3 9.45l-7.72 7.72c-.78.78-.78 2.05 0 2.83L4 21.41c.39.39.9.59 1.41.59.51 0 1.02-.2 1.41-.59l7.78-7.78 2.81-2.81c.8-.78.8-2.07 0-2.86zM5.41 20L4 18.59l7.72-7.72 1.47 1.35L5.41 20z\"/>\n",
              "  </svg>\n",
              "      </button>\n",
              "      \n",
              "  <style>\n",
              "    .colab-df-container {\n",
              "      display:flex;\n",
              "      flex-wrap:wrap;\n",
              "      gap: 12px;\n",
              "    }\n",
              "\n",
              "    .colab-df-convert {\n",
              "      background-color: #E8F0FE;\n",
              "      border: none;\n",
              "      border-radius: 50%;\n",
              "      cursor: pointer;\n",
              "      display: none;\n",
              "      fill: #1967D2;\n",
              "      height: 32px;\n",
              "      padding: 0 0 0 0;\n",
              "      width: 32px;\n",
              "    }\n",
              "\n",
              "    .colab-df-convert:hover {\n",
              "      background-color: #E2EBFA;\n",
              "      box-shadow: 0px 1px 2px rgba(60, 64, 67, 0.3), 0px 1px 3px 1px rgba(60, 64, 67, 0.15);\n",
              "      fill: #174EA6;\n",
              "    }\n",
              "\n",
              "    [theme=dark] .colab-df-convert {\n",
              "      background-color: #3B4455;\n",
              "      fill: #D2E3FC;\n",
              "    }\n",
              "\n",
              "    [theme=dark] .colab-df-convert:hover {\n",
              "      background-color: #434B5C;\n",
              "      box-shadow: 0px 1px 3px 1px rgba(0, 0, 0, 0.15);\n",
              "      filter: drop-shadow(0px 1px 2px rgba(0, 0, 0, 0.3));\n",
              "      fill: #FFFFFF;\n",
              "    }\n",
              "  </style>\n",
              "\n",
              "      <script>\n",
              "        const buttonEl =\n",
              "          document.querySelector('#df-47698446-bc21-4d0a-a9dc-67fa4ec7c812 button.colab-df-convert');\n",
              "        buttonEl.style.display =\n",
              "          google.colab.kernel.accessAllowed ? 'block' : 'none';\n",
              "\n",
              "        async function convertToInteractive(key) {\n",
              "          const element = document.querySelector('#df-47698446-bc21-4d0a-a9dc-67fa4ec7c812');\n",
              "          const dataTable =\n",
              "            await google.colab.kernel.invokeFunction('convertToInteractive',\n",
              "                                                     [key], {});\n",
              "          if (!dataTable) return;\n",
              "\n",
              "          const docLinkHtml = 'Like what you see? Visit the ' +\n",
              "            '<a target=\"_blank\" href=https://colab.research.google.com/notebooks/data_table.ipynb>data table notebook</a>'\n",
              "            + ' to learn more about interactive tables.';\n",
              "          element.innerHTML = '';\n",
              "          dataTable['output_type'] = 'display_data';\n",
              "          await google.colab.output.renderOutput(dataTable, element);\n",
              "          const docLink = document.createElement('div');\n",
              "          docLink.innerHTML = docLinkHtml;\n",
              "          element.appendChild(docLink);\n",
              "        }\n",
              "      </script>\n",
              "    </div>\n",
              "  </div>\n",
              "  "
            ]
          },
          "metadata": {},
          "execution_count": 243
        }
      ]
    },
    {
      "cell_type": "markdown",
      "source": [
        "The result show that age, metric_1, metric_2 and metric_5 variables have a relationship with stroke variable. Since metric_4 is not providing any information."
      ],
      "metadata": {
        "id": "l4pLiC3WBBR6"
      }
    },
    {
      "cell_type": "code",
      "source": [
        "POTENTIAL_NOT_CORRELATED_VARIABLES = results[results[\"is_dependant_to_target\"] ==False][\"variable\"]\n",
        "for variable in POTENTIAL_NOT_CORRELATED_VARIABLES:\n",
        "  box_plot(data, variable, TARGET_VARIABLE)"
      ],
      "metadata": {
        "colab": {
          "base_uri": "https://localhost:8080/",
          "height": 449
        },
        "id": "zrh7dHrZBCBP",
        "outputId": "aceff267-563a-4f6b-c5cf-a2a8f48ef42e"
      },
      "execution_count": 244,
      "outputs": [
        {
          "output_type": "display_data",
          "data": {
            "text/plain": [
              "<Figure size 640x480 with 1 Axes>"
            ],
            "image/png": "[encoded data removed]"
          },
          "metadata": {}
        }
      ]
    },
    {
      "cell_type": "markdown",
      "source": [
        "looking at the boxplot for metric_4 to the modality of stroke, there is no change is the diagrams. We can conHrm that the modality of stroke is not affected by change in metric_4, and can delete that variable."
      ],
      "metadata": {
        "id": "CtzYxpXmBXsD"
      }
    },
    {
      "cell_type": "markdown",
      "source": [
        "##f. quantitative variable vs quantitative variable"
      ],
      "metadata": {
        "id": "0qbcoYVUBybb"
      }
    },
    {
      "cell_type": "markdown",
      "source": [
        "We compare the quantitative variables to the qualitative variables. The reason for this is to verify\n",
        "if there is a correlation between the those variable. If this is the case, we can think of reducing\n",
        "dimensions with principal component analysis (PCA) to reduce the risk of collinearity."
      ],
      "metadata": {
        "id": "tfs3rX6FB9Vl"
      }
    },
    {
      "cell_type": "code",
      "source": [
        "x=data.corr(method=\"pearson\")\n",
        "sns.heatmap(x, annot=True, cmap='coolwarm')"
      ],
      "metadata": {
        "colab": {
          "base_uri": "https://localhost:8080/",
          "height": 506
        },
        "id": "okmIrWwpBYaz",
        "outputId": "438e4363-7f9d-448d-ad45-ad63f8a5b09d"
      },
      "execution_count": 245,
      "outputs": [
        {
          "output_type": "stream",
          "name": "stderr",
          "text": [
            "<ipython-input-245-1a87ee232d42>:1: FutureWarning: The default value of numeric_only in DataFrame.corr is deprecated. In a future version, it will default to False. Select only valid columns or specify the value of numeric_only to silence this warning.\n",
            "  x=data.corr(method=\"pearson\")\n"
          ]
        },
        {
          "output_type": "execute_result",
          "data": {
            "text/plain": [
              "<Axes: >"
            ]
          },
          "metadata": {},
          "execution_count": 245
        },
        {
          "output_type": "display_data",
          "data": {
            "text/plain": [
              "<Figure size 640x480 with 2 Axes>"
            ],
            "image/png": "[encoded data removed]"
          },
          "metadata": {}
        }
      ]
    },
    {
      "cell_type": "markdown",
      "source": [
        "We note that metric_1 is perfectly correlated to metric_5 (correlation coeccientt = 1). Which leads me to say that the metric_5 variable is a duplicate of metric_1. the metric_5 variable can therefore be deleted from our analysis.\n",
        "We also note that the other numerical variables are not correlated with each other. So no need to do PCA."
      ],
      "metadata": {
        "id": "61h2sVrHCHM4"
      }
    },
    {
      "cell_type": "code",
      "source": [
        "data.drop(\"metric_5\", axis=1, inplace=True)\n",
        "data"
      ],
      "metadata": {
        "colab": {
          "base_uri": "https://localhost:8080/",
          "height": 450
        },
        "id": "YvMGeNl7CDy9",
        "outputId": "f27f3d8e-0e59-4ecd-d777-945ca22c1e7f"
      },
      "execution_count": 246,
      "outputs": [
        {
          "output_type": "execute_result",
          "data": {
            "text/plain": [
              "        age married hypertension heart_disease occupation  metric_1  metric_2  \\\n",
              "id                                                                              \n",
              "1       3.0      No            0             0          A     95.12      18.0   \n",
              "2      58.0     Yes            1             0          B     87.96      39.2   \n",
              "3       8.0      No            0             0          B    110.89      17.6   \n",
              "4      70.0     Yes            0             0          B     69.04      35.9   \n",
              "5      14.0      No            0             0          C    161.28      19.1   \n",
              "...     ...     ...          ...           ...        ...       ...       ...   \n",
              "43396  10.0      No            0             0          A     58.64      20.4   \n",
              "43397  56.0     Yes            0             0          E    213.61      55.4   \n",
              "43398  82.0     Yes            1             0          B     91.94      28.9   \n",
              "43399  40.0     Yes            0             0          B     99.16      33.2   \n",
              "43400  82.0     Yes            0             0          B     79.48      20.6   \n",
              "\n",
              "       metric_4   smoking_status stroke  \n",
              "id                                       \n",
              "1         99.35     never smoked      0  \n",
              "2         99.70     never smoked      0  \n",
              "3         96.35     never smoked      0  \n",
              "4         95.52  formerly smoked      0  \n",
              "5         95.10     never smoked      0  \n",
              "...         ...              ...    ...  \n",
              "43396     97.23     never smoked      0  \n",
              "43397     97.81  formerly smoked      0  \n",
              "43398     95.35  formerly smoked      0  \n",
              "43399     96.40     never smoked      0  \n",
              "43400     97.80     never smoked      0  \n",
              "\n",
              "[43400 rows x 10 columns]"
            ],
            "text/html": [
              "\n",
              "  <div id=\"df-bcf64260-a513-43b3-acbb-4b0ac910ba34\">\n",
              "    <div class=\"colab-df-container\">\n",
              "      <div>\n",
              "<style scoped>\n",
              "    .dataframe tbody tr th:only-of-type {\n",
              "        vertical-align: middle;\n",
              "    }\n",
              "\n",
              "    .dataframe tbody tr th {\n",
              "        vertical-align: top;\n",
              "    }\n",
              "\n",
              "    .dataframe thead th {\n",
              "        text-align: right;\n",
              "    }\n",
              "</style>\n",
              "<table border=\"1\" class=\"dataframe\">\n",
              "  <thead>\n",
              "    <tr style=\"text-align: right;\">\n",
              "      <th></th>\n",
              "      <th>age</th>\n",
              "      <th>married</th>\n",
              "      <th>hypertension</th>\n",
              "      <th>heart_disease</th>\n",
              "      <th>occupation</th>\n",
              "      <th>metric_1</th>\n",
              "      <th>metric_2</th>\n",
              "      <th>metric_4</th>\n",
              "      <th>smoking_status</th>\n",
              "      <th>stroke</th>\n",
              "    </tr>\n",
              "    <tr>\n",
              "      <th>id</th>\n",
              "      <th></th>\n",
              "      <th></th>\n",
              "      <th></th>\n",
              "      <th></th>\n",
              "      <th></th>\n",
              "      <th></th>\n",
              "      <th></th>\n",
              "      <th></th>\n",
              "      <th></th>\n",
              "      <th></th>\n",
              "    </tr>\n",
              "  </thead>\n",
              "  <tbody>\n",
              "    <tr>\n",
              "      <th>1</th>\n",
              "      <td>3.0</td>\n",
              "      <td>No</td>\n",
              "      <td>0</td>\n",
              "      <td>0</td>\n",
              "      <td>A</td>\n",
              "      <td>95.12</td>\n",
              "      <td>18.0</td>\n",
              "      <td>99.35</td>\n",
              "      <td>never smoked</td>\n",
              "      <td>0</td>\n",
              "    </tr>\n",
              "    <tr>\n",
              "      <th>2</th>\n",
              "      <td>58.0</td>\n",
              "      <td>Yes</td>\n",
              "      <td>1</td>\n",
              "      <td>0</td>\n",
              "      <td>B</td>\n",
              "      <td>87.96</td>\n",
              "      <td>39.2</td>\n",
              "      <td>99.70</td>\n",
              "      <td>never smoked</td>\n",
              "      <td>0</td>\n",
              "    </tr>\n",
              "    <tr>\n",
              "      <th>3</th>\n",
              "      <td>8.0</td>\n",
              "      <td>No</td>\n",
              "      <td>0</td>\n",
              "      <td>0</td>\n",
              "      <td>B</td>\n",
              "      <td>110.89</td>\n",
              "      <td>17.6</td>\n",
              "      <td>96.35</td>\n",
              "      <td>never smoked</td>\n",
              "      <td>0</td>\n",
              "    </tr>\n",
              "    <tr>\n",
              "      <th>4</th>\n",
              "      <td>70.0</td>\n",
              "      <td>Yes</td>\n",
              "      <td>0</td>\n",
              "      <td>0</td>\n",
              "      <td>B</td>\n",
              "      <td>69.04</td>\n",
              "      <td>35.9</td>\n",
              "      <td>95.52</td>\n",
              "      <td>formerly smoked</td>\n",
              "      <td>0</td>\n",
              "    </tr>\n",
              "    <tr>\n",
              "      <th>5</th>\n",
              "      <td>14.0</td>\n",
              "      <td>No</td>\n",
              "      <td>0</td>\n",
              "      <td>0</td>\n",
              "      <td>C</td>\n",
              "      <td>161.28</td>\n",
              "      <td>19.1</td>\n",
              "      <td>95.10</td>\n",
              "      <td>never smoked</td>\n",
              "      <td>0</td>\n",
              "    </tr>\n",
              "    <tr>\n",
              "      <th>...</th>\n",
              "      <td>...</td>\n",
              "      <td>...</td>\n",
              "      <td>...</td>\n",
              "      <td>...</td>\n",
              "      <td>...</td>\n",
              "      <td>...</td>\n",
              "      <td>...</td>\n",
              "      <td>...</td>\n",
              "      <td>...</td>\n",
              "      <td>...</td>\n",
              "    </tr>\n",
              "    <tr>\n",
              "      <th>43396</th>\n",
              "      <td>10.0</td>\n",
              "      <td>No</td>\n",
              "      <td>0</td>\n",
              "      <td>0</td>\n",
              "      <td>A</td>\n",
              "      <td>58.64</td>\n",
              "      <td>20.4</td>\n",
              "      <td>97.23</td>\n",
              "      <td>never smoked</td>\n",
              "      <td>0</td>\n",
              "    </tr>\n",
              "    <tr>\n",
              "      <th>43397</th>\n",
              "      <td>56.0</td>\n",
              "      <td>Yes</td>\n",
              "      <td>0</td>\n",
              "      <td>0</td>\n",
              "      <td>E</td>\n",
              "      <td>213.61</td>\n",
              "      <td>55.4</td>\n",
              "      <td>97.81</td>\n",
              "      <td>formerly smoked</td>\n",
              "      <td>0</td>\n",
              "    </tr>\n",
              "    <tr>\n",
              "      <th>43398</th>\n",
              "      <td>82.0</td>\n",
              "      <td>Yes</td>\n",
              "      <td>1</td>\n",
              "      <td>0</td>\n",
              "      <td>B</td>\n",
              "      <td>91.94</td>\n",
              "      <td>28.9</td>\n",
              "      <td>95.35</td>\n",
              "      <td>formerly smoked</td>\n",
              "      <td>0</td>\n",
              "    </tr>\n",
              "    <tr>\n",
              "      <th>43399</th>\n",
              "      <td>40.0</td>\n",
              "      <td>Yes</td>\n",
              "      <td>0</td>\n",
              "      <td>0</td>\n",
              "      <td>B</td>\n",
              "      <td>99.16</td>\n",
              "      <td>33.2</td>\n",
              "      <td>96.40</td>\n",
              "      <td>never smoked</td>\n",
              "      <td>0</td>\n",
              "    </tr>\n",
              "    <tr>\n",
              "      <th>43400</th>\n",
              "      <td>82.0</td>\n",
              "      <td>Yes</td>\n",
              "      <td>0</td>\n",
              "      <td>0</td>\n",
              "      <td>B</td>\n",
              "      <td>79.48</td>\n",
              "      <td>20.6</td>\n",
              "      <td>97.80</td>\n",
              "      <td>never smoked</td>\n",
              "      <td>0</td>\n",
              "    </tr>\n",
              "  </tbody>\n",
              "</table>\n",
              "<p>43400 rows × 10 columns</p>\n",
              "</div>\n",
              "      <button class=\"colab-df-convert\" onclick=\"convertToInteractive('df-bcf64260-a513-43b3-acbb-4b0ac910ba34')\"\n",
              "              title=\"Convert this dataframe to an interactive table.\"\n",
              "              style=\"display:none;\">\n",
              "        \n",
              "  <svg xmlns=\"http://www.w3.org/2000/svg\" height=\"24px\"viewBox=\"0 0 24 24\"\n",
              "       width=\"24px\">\n",
              "    <path d=\"M0 0h24v24H0V0z\" fill=\"none\"/>\n",
              "    <path d=\"M18.56 5.44l.94 2.06.94-2.06 2.06-.94-2.06-.94-.94-2.06-.94 2.06-2.06.94zm-11 1L8.5 8.5l.94-2.06 2.06-.94-2.06-.94L8.5 2.5l-.94 2.06-2.06.94zm10 10l.94 2.06.94-2.06 2.06-.94-2.06-.94-.94-2.06-.94 2.06-2.06.94z\"/><path d=\"M17.41 7.96l-1.37-1.37c-.4-.4-.92-.59-1.43-.59-.52 0-1.04.2-1.43.59L10.3 9.45l-7.72 7.72c-.78.78-.78 2.05 0 2.83L4 21.41c.39.39.9.59 1.41.59.51 0 1.02-.2 1.41-.59l7.78-7.78 2.81-2.81c.8-.78.8-2.07 0-2.86zM5.41 20L4 18.59l7.72-7.72 1.47 1.35L5.41 20z\"/>\n",
              "  </svg>\n",
              "      </button>\n",
              "      \n",
              "  <style>\n",
              "    .colab-df-container {\n",
              "      display:flex;\n",
              "      flex-wrap:wrap;\n",
              "      gap: 12px;\n",
              "    }\n",
              "\n",
              "    .colab-df-convert {\n",
              "      background-color: #E8F0FE;\n",
              "      border: none;\n",
              "      border-radius: 50%;\n",
              "      cursor: pointer;\n",
              "      display: none;\n",
              "      fill: #1967D2;\n",
              "      height: 32px;\n",
              "      padding: 0 0 0 0;\n",
              "      width: 32px;\n",
              "    }\n",
              "\n",
              "    .colab-df-convert:hover {\n",
              "      background-color: #E2EBFA;\n",
              "      box-shadow: 0px 1px 2px rgba(60, 64, 67, 0.3), 0px 1px 3px 1px rgba(60, 64, 67, 0.15);\n",
              "      fill: #174EA6;\n",
              "    }\n",
              "\n",
              "    [theme=dark] .colab-df-convert {\n",
              "      background-color: #3B4455;\n",
              "      fill: #D2E3FC;\n",
              "    }\n",
              "\n",
              "    [theme=dark] .colab-df-convert:hover {\n",
              "      background-color: #434B5C;\n",
              "      box-shadow: 0px 1px 3px 1px rgba(0, 0, 0, 0.15);\n",
              "      filter: drop-shadow(0px 1px 2px rgba(0, 0, 0, 0.3));\n",
              "      fill: #FFFFFF;\n",
              "    }\n",
              "  </style>\n",
              "\n",
              "      <script>\n",
              "        const buttonEl =\n",
              "          document.querySelector('#df-bcf64260-a513-43b3-acbb-4b0ac910ba34 button.colab-df-convert');\n",
              "        buttonEl.style.display =\n",
              "          google.colab.kernel.accessAllowed ? 'block' : 'none';\n",
              "\n",
              "        async function convertToInteractive(key) {\n",
              "          const element = document.querySelector('#df-bcf64260-a513-43b3-acbb-4b0ac910ba34');\n",
              "          const dataTable =\n",
              "            await google.colab.kernel.invokeFunction('convertToInteractive',\n",
              "                                                     [key], {});\n",
              "          if (!dataTable) return;\n",
              "\n",
              "          const docLinkHtml = 'Like what you see? Visit the ' +\n",
              "            '<a target=\"_blank\" href=https://colab.research.google.com/notebooks/data_table.ipynb>data table notebook</a>'\n",
              "            + ' to learn more about interactive tables.';\n",
              "          element.innerHTML = '';\n",
              "          dataTable['output_type'] = 'display_data';\n",
              "          await google.colab.output.renderOutput(dataTable, element);\n",
              "          const docLink = document.createElement('div');\n",
              "          docLink.innerHTML = docLinkHtml;\n",
              "          element.appendChild(docLink);\n",
              "        }\n",
              "      </script>\n",
              "    </div>\n",
              "  </div>\n",
              "  "
            ]
          },
          "metadata": {},
          "execution_count": 246
        }
      ]
    },
    {
      "cell_type": "code",
      "source": [
        "def normalize_columns(df, col_names):\n",
        "    for col_name in col_names:\n",
        "        # calculate min and max values of column\n",
        "        mean_val = df[col_name].mean()\n",
        "        std_val = df[col_name].std()\n",
        "        # apply normalization formula to column\n",
        "        normalized_col = (df[col_name] - mean_val) / std_val\n",
        "        # add normalized column to dataframe\n",
        "        df[col_name] = normalized_col\n",
        "        return df"
      ],
      "metadata": {
        "id": "7RzgLc63CRXi"
      },
      "execution_count": 247,
      "outputs": []
    },
    {
      "cell_type": "code",
      "source": [
        "data_normalized = normalize_columns(data, ['age', 'metric_1', 'metric_2'])\n",
        "print(data_normalized)"
      ],
      "metadata": {
        "colab": {
          "base_uri": "https://localhost:8080/"
        },
        "id": "dZWFU30lCXWE",
        "outputId": "ccb910d1-7e0a-4c4e-b40a-8df97ba241b0"
      },
      "execution_count": 248,
      "outputs": [
        {
          "output_type": "stream",
          "name": "stdout",
          "text": [
            "            age married hypertension heart_disease occupation  metric_1  \\\n",
            "id                                                                        \n",
            "1     -1.675044      No            0             0          A     95.12   \n",
            "2      0.671481     Yes            1             0          B     87.96   \n",
            "3     -1.461724      No            0             0          B    110.89   \n",
            "4      1.183450     Yes            0             0          B     69.04   \n",
            "5     -1.205739      No            0             0          C    161.28   \n",
            "...         ...     ...          ...           ...        ...       ...   \n",
            "43396 -1.376396      No            0             0          A     58.64   \n",
            "43397  0.586153     Yes            0             0          E    213.61   \n",
            "43398  1.695420     Yes            1             0          B     91.94   \n",
            "43399 -0.096473     Yes            0             0          B     99.16   \n",
            "43400  1.695420     Yes            0             0          B     79.48   \n",
            "\n",
            "       metric_2  metric_4   smoking_status stroke  \n",
            "id                                                 \n",
            "1          18.0     99.35     never smoked      0  \n",
            "2          39.2     99.70     never smoked      0  \n",
            "3          17.6     96.35     never smoked      0  \n",
            "4          35.9     95.52  formerly smoked      0  \n",
            "5          19.1     95.10     never smoked      0  \n",
            "...         ...       ...              ...    ...  \n",
            "43396      20.4     97.23     never smoked      0  \n",
            "43397      55.4     97.81  formerly smoked      0  \n",
            "43398      28.9     95.35  formerly smoked      0  \n",
            "43399      33.2     96.40     never smoked      0  \n",
            "43400      20.6     97.80     never smoked      0  \n",
            "\n",
            "[43400 rows x 10 columns]\n"
          ]
        }
      ]
    },
    {
      "cell_type": "markdown",
      "source": [
        "##III. Model training"
      ],
      "metadata": {
        "id": "tQ25nUieCbBf"
      }
    },
    {
      "cell_type": "markdown",
      "source": [
        "After the preprocessing phases, our dataset consists of 8 explanatory variables (3 quantitative and 5 qualitative) and the target variable (\"stroke\"). All the retained variables are more or less strongly correlated with the stroke variable.\n",
        "\n",
        "The key evaluation metric that we employ is the area under the receiver operating characteristic (ROC) curve (AUC). AUC spans from 0 to 1, with higher values indicating greater performance, and measures how well the model can identify between patients who had a stroke and those who did not.\n",
        "\n",
        "In our dataset, categorical features such as gender, hypertension, heart_disease, occupation smoking_status, and stroke are present. Many machine learning algorithms cannot directly use these variables since they are not in numerical form. These categorical variables are transformed using OneHotEncoder into a format that the algorithms for machine learning could use.\n",
        "\n",
        "For each category of a categorical variable, OneHotEncoder essentially produces a binary vector. OneHotEncoder will create a binary vector of length three for each observation, where the vector contains a 1 in the position corresponding to the category of the observation and 0s elsewhere. For instance, if the variable \"married\" has 2 categories (yes and no), OneHotEncoder will create a binary vector of length 2 for each observation.\n",
        "\n",
        "This procedure enables our categorical variables to be used as input by our models, which can be crucial for identifying patterns in the data and predicting the outcomes of strokes.\n"
      ],
      "metadata": {
        "id": "W4iUf0KWCdCH"
      }
    },
    {
      "cell_type": "markdown",
      "source": [
        "##a. encoding"
      ],
      "metadata": {
        "id": "qbtlhkoMCrT0"
      }
    },
    {
      "cell_type": "code",
      "source": [
        "def one_hot_encoder(data, quantitative_variables, categorical_variables, target):\n",
        "  encoder = OneHotEncoder(sparse_output=False)\n",
        "  # Encode Categorical Data\n",
        "  data_encoded = pd.DataFrame(encoder.fit_transform(data[categorical_variables]))\n",
        "  data_encoded.columns = encoder.get_feature_names_out(categorical_variables)\n",
        "  for var in quantitative_variables:\n",
        "    data_encoded[var] = data[var]\n",
        "  data_encoded[target] = data[target]\n",
        "  return data_encoded"
      ],
      "metadata": {
        "id": "ZLx7tNryCswC"
      },
      "execution_count": 249,
      "outputs": []
    },
    {
      "cell_type": "markdown",
      "source": [
        "##b. decoding"
      ],
      "metadata": {
        "id": "8S2RSkBxCx3M"
      }
    },
    {
      "cell_type": "code",
      "source": [
        "cat_cols = ['married', 'hypertension', 'occupation', 'heart_disease', 'smoking_status']\n",
        "quant_cols = [\"age\", \"metric_1\", \"metric_2\"]\n",
        "data_encoded = one_hot_encoder(data_normalized, quant_cols, cat_cols, TARGET_VARIABLE)"
      ],
      "metadata": {
        "id": "wwiffUFbCzKa"
      },
      "execution_count": 250,
      "outputs": []
    },
    {
      "cell_type": "markdown",
      "source": [
        "##c. spliting data into training and testing sets"
      ],
      "metadata": {
        "id": "iAEUhklSDQIX"
      }
    },
    {
      "cell_type": "markdown",
      "source": [
        "We split our data into training and test data. To avoid accentuating the imbalance between people in stroke and non_stroke people during learning and testing, we will take 80% as test data (80% in stroke and 80% among non_stroke) and 20% others in test data."
      ],
      "metadata": {
        "id": "dcbuxBTLDROF"
      }
    },
    {
      "cell_type": "code",
      "source": [
        "def data_to_train_test(data, target_variable, training_ratio = 0.8):\n",
        "  stroke_data = data[data[target_variable] == 1]\n",
        "  y_stroke = stroke_data[target_variable]\n",
        "  X_stroke = stroke_data.drop(target_variable, axis=1)\n",
        "  X_train_stroke, X_test_stroke, y_train_stroke, y_test_stroke = train_test_split(\n",
        "      X_stroke, y_stroke, shuffle=True, train_size=training_ratio\n",
        "  )\n",
        "  non_stroke_data = data[data[target_variable] == 0]\n",
        "  y_non_stroke = non_stroke_data[target_variable]\n",
        "  X_non_stroke = non_stroke_data.drop(target_variable, axis=1)\n",
        "  X_train_non_stroke, X_test_non_stroke, y_train_non_stroke, y_test_non_stroke = \\\n",
        "    train_test_split(X_non_stroke, y_non_stroke, shuffle=True, train_size=0.8)\n",
        "  X_train = pd.concat([X_train_stroke, X_train_non_stroke])\n",
        "  y_train = pd.concat([y_train_stroke, y_train_non_stroke])\n",
        "  train_data = X_train\n",
        "  train_data[target_variable] = y_train\n",
        "  train_data = train_data.sample(frac=1, random_state=42)\n",
        "  y_train = train_data[target_variable]\n",
        "  X_train = train_data.drop(target_variable, axis=1)\n",
        "\n",
        "  X_test = pd.concat([X_test_stroke, X_test_non_stroke])\n",
        "  y_test = pd.concat([y_test_stroke, y_test_non_stroke])\n",
        "  test_data = X_test\n",
        "  test_data[target_variable] = y_test\n",
        "  test_data = test_data.sample(frac=1, random_state=42)\n",
        "  y_test = test_data[target_variable]\n",
        "  X_test = test_data.drop(target_variable, axis=1)\n",
        "  return X_train, X_test, y_train, y_test"
      ],
      "metadata": {
        "id": "HD6xCFzGDUEs"
      },
      "execution_count": 251,
      "outputs": []
    },
    {
      "cell_type": "code",
      "source": [
        "X_train, X_test, y_train, y_test = data_to_train_test(data_encoded, TARGET_VARIABLE)"
      ],
      "metadata": {
        "id": "Np6BTByfH6Sr"
      },
      "execution_count": 252,
      "outputs": []
    },
    {
      "cell_type": "markdown",
      "source": [
        "##d. Generalized linear model"
      ],
      "metadata": {
        "id": "4OZqqQc_H_FX"
      }
    },
    {
      "cell_type": "code",
      "source": [
        "model = LogisticRegression()\n",
        "# Fit the model to our data\n",
        "model.fit(X_train, y_train)\n",
        "# Show model coefficients\n",
        "print(model.coef_)\n"
      ],
      "metadata": {
        "colab": {
          "base_uri": "https://localhost:8080/"
        },
        "id": "Sliz7My1IAWD",
        "outputId": "0e42ff85-ec8d-479b-9e84-e839f27311f1"
      },
      "execution_count": 253,
      "outputs": [
        {
          "output_type": "stream",
          "name": "stdout",
          "text": [
            "[[-0.79654461 -0.80129192 -0.70383325 -0.89400327 -0.41437402 -0.3839548\n",
            "  -0.03194461 -0.41270965 -0.35485345 -0.94796375 -0.64987277 -0.40624001\n",
            "  -0.54776423 -0.64383228  1.36834041  0.00515574 -0.01065598]]\n"
          ]
        },
        {
          "output_type": "stream",
          "name": "stderr",
          "text": [
            "/usr/local/lib/python3.10/dist-packages/sklearn/linear_model/_logistic.py:458: ConvergenceWarning: lbfgs failed to converge (status=1):\n",
            "STOP: TOTAL NO. of ITERATIONS REACHED LIMIT.\n",
            "\n",
            "Increase the number of iterations (max_iter) or scale the data as shown in:\n",
            "    https://scikit-learn.org/stable/modules/preprocessing.html\n",
            "Please also refer to the documentation for alternative solver options:\n",
            "    https://scikit-learn.org/stable/modules/linear_model.html#logistic-regression\n",
            "  n_iter_i = _check_optimize_result(\n"
          ]
        }
      ]
    },
    {
      "cell_type": "code",
      "source": [
        "def predict(X_test, y_test, model, event_proba = 0.5):\n",
        "  predict_proba = model.predict_proba(X_test)\n",
        "  y_pred = []\n",
        "  for record in predict_proba:\n",
        "    proba = record[1]\n",
        "    if proba >= event_proba :\n",
        "      y_pred.append(1)\n",
        "    else:\n",
        "      y_pred.append(0)"
      ],
      "metadata": {
        "id": "HJhSFYfSIGYY"
      },
      "execution_count": 254,
      "outputs": []
    },
    {
      "cell_type": "code",
      "source": [
        "# Predict the class labels\n",
        "y_pred = model.predict(X_test)\n",
        "# Convert the probabilities to binary labels\n",
        "y_pred = np.where(y_pred > 0.5, 1, 0)\n",
        "# Print the confusion matrix\n",
        "print(confusion_matrix(y_test, y_pred))\n",
        "# Calculate the evaluation metrics\n",
        "accuracy = accuracy_score(y_test, y_pred)\n",
        "precision = precision_score(y_test, y_pred)\n",
        "recall = recall_score(y_test, y_pred)\n",
        "f1 = f1_score(y_test, y_pred)\n",
        "# Print the evaluation metrics\n",
        "print(\"Accuracy:\", accuracy)\n",
        "print(\"Precision:\", precision)\n",
        "print(\"Recall:\", recall)\n",
        "print(\"F1-score:\", f1)"
      ],
      "metadata": {
        "colab": {
          "base_uri": "https://localhost:8080/"
        },
        "id": "uu00Sz3EIKXU",
        "outputId": "9a1d68f6-5f3e-4a6f-991b-83910101db60"
      },
      "execution_count": 255,
      "outputs": [
        {
          "output_type": "stream",
          "name": "stdout",
          "text": [
            "[[8524    0]\n",
            " [ 157    0]]\n",
            "Accuracy: 0.98191452597627\n",
            "Precision: 0.0\n",
            "Recall: 0.0\n",
            "F1-score: 0.0\n"
          ]
        },
        {
          "output_type": "stream",
          "name": "stderr",
          "text": [
            "/usr/local/lib/python3.10/dist-packages/sklearn/metrics/_classification.py:1344: UndefinedMetricWarning: Precision is ill-defined and being set to 0.0 due to no predicted samples. Use `zero_division` parameter to control this behavior.\n",
            "  _warn_prf(average, modifier, msg_start, len(result))\n"
          ]
        }
      ]
    },
    {
      "cell_type": "markdown",
      "source": [
        "In our dataset, age, married, hypertension, heart_disease, occupation, metric_1, metric_2 and smoking_status variables inguence a patient's prognosis in stroke statistics. By using the predict function, the Minneapolis Health and Data Science team can better comprehend the potential outcomes for a patient and make more educated decisions regarding treatment and care by employing a machine learning model to examine these aspects and estimate the probability of an event."
      ],
      "metadata": {
        "id": "0PRd8L5tOR7S"
      }
    },
    {
      "cell_type": "markdown",
      "source": [
        "##III.a Model Evaluation and Interpretation"
      ],
      "metadata": {
        "id": "-72MHpfDOWRu"
      }
    },
    {
      "cell_type": "code",
      "source": [
        "predict(X_test, y_test, model, 0.1)"
      ],
      "metadata": {
        "id": "mjwhwzB4OcEA"
      },
      "execution_count": 256,
      "outputs": []
    },
    {
      "cell_type": "code",
      "source": [
        "y_pred_proba = model.predict_proba(X_test)[:,1]\n",
        "# Compute ROC curve and AUC\n",
        "fpr, tpr, thresholds = roc_curve(y_test, y_pred_proba)\n",
        "roc_auc = auc(fpr, tpr)\n"
      ],
      "metadata": {
        "id": "6641Ou1iOgRM"
      },
      "execution_count": 257,
      "outputs": []
    },
    {
      "cell_type": "code",
      "source": [
        "# Plot ROC curve\n",
        "plt.plot(fpr, tpr, color='darkorange', lw=2, label='ROC curve (area = %0.2f)' % roc_auc)\n",
        "plt.plot([0, 1], [0, 1], color='navy', lw=2, linestyle='--')\n",
        "plt.xlim([0.0, 1.0])\n",
        "plt.ylim([0.0, 1.05])\n",
        "plt.xlabel('False Positive Rate')\n",
        "plt.ylabel('True Positive Rate')\n",
        "plt.title('Receiver Operating Characteristic')\n",
        "plt.legend(loc=\"lower right\")\n",
        "plt.show()"
      ],
      "metadata": {
        "colab": {
          "base_uri": "https://localhost:8080/",
          "height": 472
        },
        "id": "SbTLQwvNOjmz",
        "outputId": "d0a31749-c450-4da4-d903-58ff3cc2962e"
      },
      "execution_count": 258,
      "outputs": [
        {
          "output_type": "display_data",
          "data": {
            "text/plain": [
              "<Figure size 640x480 with 1 Axes>"
            ],
            "image/png": "[encoded data removed]"
          },
          "metadata": {}
        }
      ]
    },
    {
      "cell_type": "markdown",
      "source": [
        "The logistic regression model performed well, as evidenced by its AUC of 0.85 on the test set. We also determined the model's precision, recall, and F1 score in order to further assess it. F1 score is the harmonic mean of accuracy and recall, where precision evaluates the proportion of true positives among all projected positives and recall represents the proportion of true positives among all real positives. The accuracy, precision, recall, and F1 score of the logistic regression model were 0.97, 0.13, 0.1, and 0.11, respectively."
      ],
      "metadata": {
        "id": "pyU6rbVxOunV"
      }
    },
    {
      "cell_type": "markdown",
      "source": [
        "##Other model (KNN)"
      ],
      "metadata": {
        "id": "Ze5BZsmyOx0S"
      }
    },
    {
      "cell_type": "code",
      "source": [
        "# Create KNN classifier\n",
        "knn = KNeighborsClassifier(n_neighbors=5)\n",
        "# Fit KNN classifier on training data\n",
        "knn.fit(X_train, y_train)\n",
        "# Predict on test data\n",
        "y_pred = knn.predict(X_test)\n",
        "# Calculate accuracy score\n",
        "accuracy2 = accuracy_score(y_test, y_pred)\n",
        "# Calculate precision\n",
        "precision2 = precision_score(y_test, y_pred)\n",
        "# Calculate recall\n",
        "recall2 = recall_score(y_test, y_pred)\n",
        "# Calculate F1-score\n",
        "f1 = f1_score(y_test, y_pred)\n",
        "print(f\"Accuracy: {accuracy2}\")\n",
        "print(f\"Precision: {precision2}\")\n",
        "print(f\"Recall: {recall2}\")\n",
        "print(f\"F1 Score: {f1}\")\n"
      ],
      "metadata": {
        "colab": {
          "base_uri": "https://localhost:8080/"
        },
        "id": "73cTq1IXO2Lv",
        "outputId": "39252b86-1d36-4d5a-893f-2b0336d16767"
      },
      "execution_count": 259,
      "outputs": [
        {
          "output_type": "stream",
          "name": "stdout",
          "text": [
            "Accuracy: 0.9815689436700841\n",
            "Precision: 0.0\n",
            "Recall: 0.0\n",
            "F1 Score: 0.0\n"
          ]
        }
      ]
    },
    {
      "cell_type": "code",
      "source": [
        "knn_probs = knn.predict_proba(X_test)[:, 1]\n",
        "knn_fpr, knn_tpr, _ = roc_curve(y_test, knn_probs)\n",
        "knn_auc = roc_auc_score(y_test, knn_probs)"
      ],
      "metadata": {
        "id": "KX1ODg6OO5fC"
      },
      "execution_count": 260,
      "outputs": []
    },
    {
      "cell_type": "code",
      "source": [
        "# Plot ROC curve\n",
        "plt.plot(knn_fpr, knn_tpr, color='darkorange', lw=2, label='ROC curve (area = %0.2f)' % knn_auc)\n",
        "plt.plot([0, 1], [0, 1], color='navy', lw=2, linestyle='--')\n",
        "plt.xlim([0.0, 1.0])\n",
        "plt.ylim([0.0, 1.05])\n",
        "plt.xlabel('False Positive Rate')\n",
        "plt.ylabel('True Positive Rate')\n",
        "plt.title('Receiver Operating Characteristic')\n",
        "plt.legend(loc=\"lower right\")\n",
        "plt.show()"
      ],
      "metadata": {
        "colab": {
          "base_uri": "https://localhost:8080/",
          "height": 472
        },
        "id": "nAwdwHa2O9t4",
        "outputId": "0b289382-e9d7-4c67-b223-6d8f92790da7"
      },
      "execution_count": 261,
      "outputs": [
        {
          "output_type": "display_data",
          "data": {
            "text/plain": [
              "<Figure size 640x480 with 1 Axes>"
            ],
            "image/png": "[encoded data removed]"
          },
          "metadata": {}
        }
      ]
    },
    {
      "cell_type": "markdown",
      "source": [
        "The K-nearest Neighbors (KNN) model performed well with an AUC of 0.6 on the test set. We also determined the model's accuracy, precision, recall, and F1 score in order to further assess it. The precision, recall, and F1 score of the The K-nearest Neighbors (KNN) model were 0.98, 0.0, 0.0, and 0.0, respectively."
      ],
      "metadata": {
        "id": "YrWMpPIKPifr"
      }
    },
    {
      "cell_type": "markdown",
      "source": [
        "##Other model (SVM)"
      ],
      "metadata": {
        "id": "yE4XCXYjPlm7"
      }
    },
    {
      "cell_type": "code",
      "source": [
        "svm_model = svm.SVC(probability=True)\n",
        "svm_model.fit(X_train, y_train)"
      ],
      "metadata": {
        "colab": {
          "base_uri": "https://localhost:8080/",
          "height": 74
        },
        "id": "tZOFW0vfPnsb",
        "outputId": "98bee554-16ee-45a8-d5f3-31892c4887df"
      },
      "execution_count": 262,
      "outputs": [
        {
          "output_type": "execute_result",
          "data": {
            "text/plain": [
              "SVC(probability=True)"
            ],
            "text/html": [
              "<style>#sk-container-id-2 {color: black;background-color: white;}#sk-container-id-2 pre{padding: 0;}#sk-container-id-2 div.sk-toggleable {background-color: white;}#sk-container-id-2 label.sk-toggleable__label {cursor: pointer;display: block;width: 100%;margin-bottom: 0;padding: 0.3em;box-sizing: border-box;text-align: center;}#sk-container-id-2 label.sk-toggleable__label-arrow:before {content: \"▸\";float: left;margin-right: 0.25em;color: #696969;}#sk-container-id-2 label.sk-toggleable__label-arrow:hover:before {color: black;}#sk-container-id-2 div.sk-estimator:hover label.sk-toggleable__label-arrow:before {color: black;}#sk-container-id-2 div.sk-toggleable__content {max-height: 0;max-width: 0;overflow: hidden;text-align: left;background-color: #f0f8ff;}#sk-container-id-2 div.sk-toggleable__content pre {margin: 0.2em;color: black;border-radius: 0.25em;background-color: #f0f8ff;}#sk-container-id-2 input.sk-toggleable__control:checked~div.sk-toggleable__content {max-height: 200px;max-width: 100%;overflow: auto;}#sk-container-id-2 input.sk-toggleable__control:checked~label.sk-toggleable__label-arrow:before {content: \"▾\";}#sk-container-id-2 div.sk-estimator input.sk-toggleable__control:checked~label.sk-toggleable__label {background-color: #d4ebff;}#sk-container-id-2 div.sk-label input.sk-toggleable__control:checked~label.sk-toggleable__label {background-color: #d4ebff;}#sk-container-id-2 input.sk-hidden--visually {border: 0;clip: rect(1px 1px 1px 1px);clip: rect(1px, 1px, 1px, 1px);height: 1px;margin: -1px;overflow: hidden;padding: 0;position: absolute;width: 1px;}#sk-container-id-2 div.sk-estimator {font-family: monospace;background-color: #f0f8ff;border: 1px dotted black;border-radius: 0.25em;box-sizing: border-box;margin-bottom: 0.5em;}#sk-container-id-2 div.sk-estimator:hover {background-color: #d4ebff;}#sk-container-id-2 div.sk-parallel-item::after {content: \"\";width: 100%;border-bottom: 1px solid gray;flex-grow: 1;}#sk-container-id-2 div.sk-label:hover label.sk-toggleable__label {background-color: #d4ebff;}#sk-container-id-2 div.sk-serial::before {content: \"\";position: absolute;border-left: 1px solid gray;box-sizing: border-box;top: 0;bottom: 0;left: 50%;z-index: 0;}#sk-container-id-2 div.sk-serial {display: flex;flex-direction: column;align-items: center;background-color: white;padding-right: 0.2em;padding-left: 0.2em;position: relative;}#sk-container-id-2 div.sk-item {position: relative;z-index: 1;}#sk-container-id-2 div.sk-parallel {display: flex;align-items: stretch;justify-content: center;background-color: white;position: relative;}#sk-container-id-2 div.sk-item::before, #sk-container-id-2 div.sk-parallel-item::before {content: \"\";position: absolute;border-left: 1px solid gray;box-sizing: border-box;top: 0;bottom: 0;left: 50%;z-index: -1;}#sk-container-id-2 div.sk-parallel-item {display: flex;flex-direction: column;z-index: 1;position: relative;background-color: white;}#sk-container-id-2 div.sk-parallel-item:first-child::after {align-self: flex-end;width: 50%;}#sk-container-id-2 div.sk-parallel-item:last-child::after {align-self: flex-start;width: 50%;}#sk-container-id-2 div.sk-parallel-item:only-child::after {width: 0;}#sk-container-id-2 div.sk-dashed-wrapped {border: 1px dashed gray;margin: 0 0.4em 0.5em 0.4em;box-sizing: border-box;padding-bottom: 0.4em;background-color: white;}#sk-container-id-2 div.sk-label label {font-family: monospace;font-weight: bold;display: inline-block;line-height: 1.2em;}#sk-container-id-2 div.sk-label-container {text-align: center;}#sk-container-id-2 div.sk-container {/* jupyter's `normalize.less` sets `[hidden] { display: none; }` but bootstrap.min.css set `[hidden] { display: none !important; }` so we also need the `!important` here to be able to override the default hidden behavior on the sphinx rendered scikit-learn.org. See: https://github.com/scikit-learn/scikit-learn/issues/21755 */display: inline-block !important;position: relative;}#sk-container-id-2 div.sk-text-repr-fallback {display: none;}</style><div id=\"sk-container-id-2\" class=\"sk-top-container\"><div class=\"sk-text-repr-fallback\"><pre>SVC(probability=True)</pre><b>In a Jupyter environment, please rerun this cell to show the HTML representation or trust the notebook. <br />On GitHub, the HTML representation is unable to render, please try loading this page with nbviewer.org.</b></div><div class=\"sk-container\" hidden><div class=\"sk-item\"><div class=\"sk-estimator sk-toggleable\"><input class=\"sk-toggleable__control sk-hidden--visually\" id=\"sk-estimator-id-2\" type=\"checkbox\" checked><label for=\"sk-estimator-id-2\" class=\"sk-toggleable__label sk-toggleable__label-arrow\">SVC</label><div class=\"sk-toggleable__content\"><pre>SVC(probability=True)</pre></div></div></div></div></div>"
            ]
          },
          "metadata": {},
          "execution_count": 262
        }
      ]
    },
    {
      "cell_type": "code",
      "source": [
        "svm_pred = svm_model.predict_proba(X_test)[:, 1]\n",
        "predict(X_test, y_test, svm_model, 0.1)"
      ],
      "metadata": {
        "id": "rtlFounVPxTy"
      },
      "execution_count": 263,
      "outputs": []
    },
    {
      "cell_type": "code",
      "source": [
        "# Compute false positive rate and true positive rate\n",
        "fpr_svm, tpr_svm, _ = roc_curve(y_test, svm_pred)\n",
        "# Compute area under the curve\n",
        "roc_auc_svm = auc(fpr_svm, tpr_svm)\n"
      ],
      "metadata": {
        "id": "BVJG3GWCP1XY"
      },
      "execution_count": 264,
      "outputs": []
    },
    {
      "cell_type": "code",
      "source": [
        "# Plot ROC curve\n",
        "plt.figure()\n",
        "plt.plot(fpr_svm, tpr_svm, color='darkorange', lw=2, label='ROC curve (area = %0.2f)' % roc_auc_svm)\n",
        "plt.plot([0, 1], [0, 1], color='navy', lw=2, linestyle='--')\n",
        "plt.xlim([0.0, 1.0])\n",
        "plt.ylim([0.0, 1.05])\n",
        "plt.xlabel('False Positive Rate')\n",
        "plt.ylabel('True Positive Rate')\n",
        "plt.title('Receiver operating characteristic for SVM')\n",
        "plt.legend(loc=\"lower right\")\n",
        "plt.show()"
      ],
      "metadata": {
        "colab": {
          "base_uri": "https://localhost:8080/",
          "height": 472
        },
        "id": "7tCLjJ0oP2Pa",
        "outputId": "0cf38b79-1721-4ca2-81fc-c82dd778b0d8"
      },
      "execution_count": 265,
      "outputs": [
        {
          "output_type": "display_data",
          "data": {
            "text/plain": [
              "<Figure size 640x480 with 1 Axes>"
            ],
            "image/png": "[encoded data removed]"
          },
          "metadata": {}
        }
      ]
    },
    {
      "cell_type": "markdown",
      "source": [
        "The SVM model performed well with an AUC of 0.53 on the test set. We also determined the model's precision, recall, and F1 score in order to further assess it. The accuracy, precision, recall, and F1 score of the The SVM model were 0.98, 0.3, 0.006, and 0.001, respectively."
      ],
      "metadata": {
        "id": "IhQReabVQNZc"
      }
    },
    {
      "cell_type": "code",
      "source": [
        "plt.plot(fpr, tpr, label='Logistic Regression (AUC = {:.2f})'.format(roc_auc))\n",
        "plt.plot(knn_fpr, knn_tpr, label='KNN (AUC = {:.2f})'.format(knn_auc))\n",
        "plt.plot(fpr_svm, tpr_svm, label='SVM (AUC = {:.2f})'.format(roc_auc_svm))\n",
        "# Add labels and legend to the plot\n",
        "plt.xlabel('False Positive Rate')\n",
        "plt.ylabel('True Positive Rate')\n",
        "plt.title('ROC Curves')\n",
        "plt.legend()\n",
        "# Show the plot\n",
        "plt.show()"
      ],
      "metadata": {
        "colab": {
          "base_uri": "https://localhost:8080/",
          "height": 472
        },
        "id": "N3o_WTZhQRkI",
        "outputId": "d750decb-6678-40a2-9122-0b455fed0a32"
      },
      "execution_count": 266,
      "outputs": [
        {
          "output_type": "display_data",
          "data": {
            "text/plain": [
              "<Figure size 640x480 with 1 Axes>"
            ],
            "image/png": "[encoded data removed]"
          },
          "metadata": {}
        }
      ]
    },
    {
      "cell_type": "markdown",
      "source": [
        "In summary, the logistic regression model appears to be better than the KNN and SVM models in terms of AUC. logistic regression may be the optimal solution for this speciHc stroke data set. In example, if the link between the variables and the outcome is linear or well-separated, logistic regression may have been better able to capture the associations between the predictor factors and the outcome than KNN and SVM. and F1 score, demonstrating that it is a more accurate model for predicting the occurrence of strokes. However, by investigating additional models or adjusting the hyperparameters of the logistic regression model, signiHcant advancements can be achieved. The fact that KNN and SVM have precision, recall and f1 being very small may, however, be a warning regarding the quality of our data."
      ],
      "metadata": {
        "id": "XFv8vlGhQ__v"
      }
    },
    {
      "cell_type": "markdown",
      "source": [
        "##IV. Conclusion and Recommandations"
      ],
      "metadata": {
        "id": "5B5DjuowREYE"
      }
    },
    {
      "cell_type": "markdown",
      "source": [
        "##IV.a Conclusion"
      ],
      "metadata": {
        "id": "bs5VEbiARI5F"
      }
    },
    {
      "cell_type": "markdown",
      "source": [
        "n order to forecast the likelihood of stroke in patients, we examined a dataset on strokes. To prepare the data for modeling, we carried out preliminary analysis of data and feature engineering. Then, using the logistic regression and k-nearest neighbors machine learning models, we trained and assessed them (KNN).\n",
        "\n",
        "As a result of our Hndings, the logistic regression model performed better than the KNN model in terms of AUC and F1 score, demonstrating that it is a more accurate model for stroke occurrence prediction. Also, we discovered that the Hve main risk factors for stroke were age, married, hypertension, heart_disease, metric_1, metric_2 and smoking_status.\n",
        "\n",
        "Essentially, our experiment shows how machine learning may be used to forecast patients' risk of stroke in the healthcare industry. Healthcare professionals can deliver tailored therapies to lower the risk of stroke and enhance patient outcomes by correctly predicting the occurrence of stroke."
      ],
      "metadata": {
        "id": "SpBsgAHTRM4U"
      }
    },
    {
      "cell_type": "markdown",
      "source": [
        "##IV.b Recommendations"
      ],
      "metadata": {
        "id": "EuPkBkHuRQ-2"
      }
    },
    {
      "cell_type": "markdown",
      "source": [
        "1. Becausetherearesofewdataonstrokepatients,themodelsthathavebeenbuiltcannot reliably predict the data for this type of stroke. If I had more time, I would have approached the topic as an anomaly detection problem (the data from stroke victims would then be anomaly data). Then we use the model set up to reconstruct the data used for learning. We calculate the reconstruction errors and use them to deHne the threshold of anomaly. So for the test we will use the model to reproduce the data and then compare the reconstruction error to the threshold of anomaly to deHne whether the data is actually in anomaly. The model is taught that on the data of non-stroke patients, the reconstruction error for data of stroke patients will normally be higher.\n",
        "\n",
        "2. Iwouldalsoseveraldifferentmachinelearningmodels,suchasrandomforest,naive Bayes, and decision trees, to see which performs best on the data.\n",
        "\n",
        "3. Patientswithanegativeageorolderthan100years(forexample)canbeseenasdata that negatively inguences the pattern. They can be removed to see if the performance of the model improves."
      ],
      "metadata": {
        "id": "h4GZ7adERSDz"
      }
    }
  ]
}